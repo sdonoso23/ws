{
 "cells": [
  {
   "cell_type": "code",
   "execution_count": 1,
   "metadata": {
    "collapsed": false
   },
   "outputs": [],
   "source": [
    "import sys\n",
    "import os\n",
    "sys.path.append(os.getcwd() + \"/..\")\n",
    "from ws.scrapersclasses import Scraper\n",
    "from selenium import webdriver\n",
    "from ws.settings import *\n",
    "\n"
   ]
  },
  {
   "cell_type": "code",
   "execution_count": 3,
   "metadata": {
    "collapsed": false,
    "deletable": true,
    "editable": true
   },
   "outputs": [],
   "source": [
    "scraper = Scraper(leagues,path,listpath,driverpath)\n",
    "\n"
   ]
  },
  {
   "cell_type": "code",
   "execution_count": 11,
   "metadata": {
    "collapsed": false
   },
   "outputs": [],
   "source": [
    "scraper.setParams(\"Ligue 1\",\"2017-2018\")\n",
    "\n"
   ]
  },
  {
   "cell_type": "code",
   "execution_count": 10,
   "metadata": {
    "collapsed": false
   },
   "outputs": [
    {
     "data": {
      "text/plain": [
       "{'1999-2000': '2',\n",
       " '2000-2001': '85',\n",
       " '2001-2002': '191',\n",
       " '2002-2003': '299',\n",
       " '2003-2004': '429',\n",
       " '2004-2005': '594',\n",
       " '2005-2006': '836',\n",
       " '2006-2007': '667',\n",
       " '2007-2008': '1256',\n",
       " '2008-2009': '1539',\n",
       " '2009-2010': '1849',\n",
       " '2010-2011': '2458',\n",
       " '2011-2012': '2935',\n",
       " '2012-2013': '3389',\n",
       " '2013-2014': '3853',\n",
       " '2014-2015': '4311',\n",
       " '2015-2016': '5826',\n",
       " '2016-2017': '6335',\n",
       " '2017-2018': '6829'}"
      ]
     },
     "execution_count": 10,
     "metadata": {},
     "output_type": "execute_result"
    }
   ],
   "source": [
    "scraper.seasons"
   ]
  },
  {
   "cell_type": "code",
   "execution_count": 15,
   "metadata": {
    "collapsed": false,
    "deletable": true,
    "editable": true
   },
   "outputs": [
    {
     "ename": "NameError",
     "evalue": "name 'd' is not defined",
     "output_type": "error",
     "traceback": [
      "\u001b[0;31m---------------------------------------------------------------------------\u001b[0m",
      "\u001b[0;31mNameError\u001b[0m                                 Traceback (most recent call last)",
      "\u001b[0;32m<ipython-input-15-c1617f1a74de>\u001b[0m in \u001b[0;36m<module>\u001b[0;34m()\u001b[0m\n\u001b[1;32m      1\u001b[0m \u001b[0mcountry\u001b[0m \u001b[1;33m=\u001b[0m \u001b[1;34m\"italy\"\u001b[0m\u001b[1;33m\u001b[0m\u001b[0m\n\u001b[1;32m      2\u001b[0m \u001b[0mdriver\u001b[0m \u001b[1;33m=\u001b[0m \u001b[0mwebdriver\u001b[0m\u001b[1;33m.\u001b[0m\u001b[0mChrome\u001b[0m\u001b[1;33m(\u001b[0m\u001b[0mexecutable_path\u001b[0m\u001b[1;33m=\u001b[0m\u001b[0mdriverpath\u001b[0m\u001b[1;33m)\u001b[0m\u001b[1;33m\u001b[0m\u001b[0m\n\u001b[0;32m----> 3\u001b[0;31m \u001b[0murl\u001b[0m \u001b[1;33m=\u001b[0m \u001b[1;34m\"https://www.whoscored.com/Regions/\"\u001b[0m\u001b[1;33m+\u001b[0m\u001b[0mstr\u001b[0m\u001b[1;33m(\u001b[0m\u001b[0md\u001b[0m\u001b[1;33m[\u001b[0m\u001b[0mcountry\u001b[0m\u001b[1;33m]\u001b[0m\u001b[1;33m[\u001b[0m\u001b[1;34m\"id\"\u001b[0m\u001b[1;33m]\u001b[0m\u001b[1;33m)\u001b[0m\u001b[1;33m+\u001b[0m\u001b[1;34m\"/Tournaments/\"\u001b[0m\u001b[1;33m+\u001b[0m\u001b[0mstr\u001b[0m\u001b[1;33m(\u001b[0m\u001b[0md\u001b[0m\u001b[1;33m[\u001b[0m\u001b[0mcountry\u001b[0m\u001b[1;33m]\u001b[0m\u001b[1;33m[\u001b[0m\u001b[1;34m\"leagueid\"\u001b[0m\u001b[1;33m]\u001b[0m\u001b[1;33m)\u001b[0m\u001b[1;33m+\u001b[0m\u001b[1;34m\"/Seasons/\"\u001b[0m\u001b[1;33m+\u001b[0m\u001b[0mstr\u001b[0m\u001b[1;33m(\u001b[0m\u001b[0md\u001b[0m\u001b[1;33m[\u001b[0m\u001b[0mcountry\u001b[0m\u001b[1;33m]\u001b[0m\u001b[1;33m[\u001b[0m\u001b[1;34m\"season\"\u001b[0m\u001b[1;33m]\u001b[0m\u001b[1;33m)\u001b[0m\u001b[1;33m\u001b[0m\u001b[0m\n\u001b[0m\u001b[1;32m      4\u001b[0m \u001b[1;33m\u001b[0m\u001b[0m\n\u001b[1;32m      5\u001b[0m \u001b[1;33m\u001b[0m\u001b[0m\n",
      "\u001b[0;31mNameError\u001b[0m: name 'd' is not defined"
     ]
    }
   ],
   "source": [
    "country = \"italy\"\n",
    "driver = webdriver.Chrome(executable_path=driverpath)\n",
    "url = \"https://www.whoscored.com/Regions/\"+str(d[country][\"id\"])+\"/Tournaments/\"+str(d[country][\"leagueid\"])+\"/Seasons/\"+str(d[country][\"season\"])\n",
    "\n",
    "\n",
    "sc.matcheslist(url,driver,listpath)\n"
   ]
  },
  {
   "cell_type": "code",
   "execution_count": 63,
   "metadata": {
    "collapsed": false,
    "deletable": true,
    "editable": true,
    "scrolled": true
   },
   "outputs": [
    {
     "name": "stdout",
     "output_type": "stream",
     "text": [
      "you already have  0  matches\n",
      "you are missing 20  matches\n",
      "starting scraping of  20  matches\n",
      "2017-09-02 23:45:00   1 matches done  { \" }\n",
      "2017-09-02 23:45:37   2 matches done  { \" }\n",
      "2017-09-02 23:46:20   3 matches done  { \" }\n",
      "2017-09-02 23:46:46   4 matches done  { \" }\n",
      "2017-09-02 23:47:15   5 matches done  { \" }\n",
      "2017-09-02 23:47:42   6 matches done  { \" }\n",
      "2017-09-02 23:48:08   7 matches done  { \" }\n",
      "2017-09-02 23:48:32   8 matches done  { \" }\n",
      "2017-09-02 23:48:57   9 matches done  { \" }\n",
      "2017-09-02 23:49:22   10 matches done  { \" }\n",
      "2017-09-02 23:49:48   11 matches done  { \" }\n",
      "2017-09-02 23:50:17   12 matches done  { \" }\n",
      "2017-09-02 23:50:45   13 matches done  { \" }\n",
      "2017-09-02 23:51:12   14 matches done  { \" }\n",
      "2017-09-02 23:51:38   15 matches done  { \" }\n",
      "2017-09-02 23:52:03   16 matches done  { \" }\n",
      "2017-09-02 23:52:27   17 matches done  { \" }\n",
      "2017-09-02 23:52:53   18 matches done  { \" }\n",
      "2017-09-02 23:53:18   19 matches done  { \" }\n",
      "2017-09-02 23:53:45   20 matches done  { \" }\n"
     ]
    }
   ],
   "source": [
    "driver = webdriver.Chrome(executable_path=driverpath)\n",
    "league = \"Serie A\"\n",
    "year = \"2017-2018\"\n",
    "number = 100\n",
    "\n",
    "\n",
    "sc.databylist(league,year,number,driver,listpath,path)"
   ]
  },
  {
   "cell_type": "code",
   "execution_count": null,
   "metadata": {
    "collapsed": false,
    "deletable": true,
    "editable": true
   },
   "outputs": [],
   "source": [
    "driver = webdriver.Chrome(executable_path=driverpath)\n",
    "url = \"https://www.whoscored.com/Regions/\"+d[country][\"id\"]+\"/Tournaments/\"+d[country][\"leagueid\"]\n",
    "\n",
    "sc.uclmatcheslist(url,driver,listpath)"
   ]
  },
  {
   "cell_type": "code",
   "execution_count": 51,
   "metadata": {
    "collapsed": false,
    "deletable": true,
    "editable": true
   },
   "outputs": [],
   "source": [
    "country = \"france\"\n",
    "driver = webdriver.Chrome(executable_path=driverpath)\n",
    "url = \"https://www.whoscored.com/Regions/\"+str(d[country][\"id\"])+\"/Tournaments/\"+str(d[country][\"leagueid\"])\n",
    "\n",
    "sc.seasonslist(url,driver,listpath)"
   ]
  },
  {
   "cell_type": "code",
   "execution_count": null,
   "metadata": {
    "collapsed": false,
    "deletable": true,
    "editable": true
   },
   "outputs": [],
   "source": [
    "matchlist = [1115524,1115525]\n",
    "driver = webdriver.Chrome(executable_path=driverpath)\n",
    "\n",
    "sc.databyid(matchlist,driver,path)"
   ]
  },
  {
   "cell_type": "code",
   "execution_count": 3,
   "metadata": {
    "collapsed": false
   },
   "outputs": [
    {
     "name": "stdout",
     "output_type": "stream",
     "text": [
      "69  matches done!\n",
      "139  matches done!\n",
      "last matches done!\n"
     ]
    }
   ],
   "source": [
    "driver = webdriver.Chrome(executable_path=driverpath)\n",
    "url = \"https://www.whoscored.com/Regions/31/Tournaments/95/Seasons/6700\"\n",
    "\n",
    "sc.brasilmatcheslist(url,driver,listpath)"
   ]
  },
  {
   "cell_type": "code",
   "execution_count": 8,
   "metadata": {
    "collapsed": false
   },
   "outputs": [
    {
     "name": "stdout",
     "output_type": "stream",
     "text": [
      "you already have  5  matches\n",
      "you are missing 145  matches\n",
      "starting scraping of  15  matches\n",
      "2017-07-29 22:01:32   1 matches done  { \" }\n",
      "2017-07-29 22:02:00   2 matches done  { \" }\n",
      "2017-07-29 22:02:40   3 matches done  { \" }\n",
      "2017-07-29 22:03:07   4 matches done  { \" }\n",
      "2017-07-29 22:03:32   5 matches done  { \" }\n",
      "2017-07-29 22:04:21   6 matches done  { \" }\n",
      "2017-07-29 22:04:55   7 matches done  { \" }\n",
      "2017-07-29 22:05:25   8 matches done  { \" }\n",
      "2017-07-29 22:06:02   9 matches done  { \" }\n",
      "2017-07-29 22:06:31   10 matches done  { \" }\n",
      "2017-07-29 22:06:56   11 matches done  { \" }\n",
      "2017-07-29 22:07:22   12 matches done  { \" }\n",
      "2017-07-29 22:07:49   13 matches done  { \" }\n",
      "2017-07-29 22:08:14   14 matches done  { \" }\n",
      "2017-07-29 22:08:40   15 matches done  { \" }\n"
     ]
    }
   ],
   "source": [
    "driver = webdriver.Chrome(executable_path=driverpath)\n",
    "league = \"Brasileirao\"\n",
    "year = \"2017\"\n",
    "number = 15\n",
    "\n",
    "sc.brasildatabylist(league,year,number,driver,listpath,path)"
   ]
  },
  {
   "cell_type": "code",
   "execution_count": 6,
   "metadata": {
    "collapsed": false
   },
   "outputs": [
    {
     "name": "stdout",
     "output_type": "stream",
     "text": [
      "page got\n",
      "starting first page\n",
      "1  matches done!\n",
      "going to pages\n",
      "going to fixture\n",
      "51  matches done!\n",
      "121  matches done!\n",
      "171  matches done!\n",
      "last matches done!\n"
     ]
    }
   ],
   "source": [
    "driver = webdriver.Chrome(executable_path=driverpath)\n",
    "url = \"https://www.whoscored.com/Regions/11/Tournaments/68/Seasons/6144\"\n",
    "\n",
    "sc.eredmatcheslist(url,driver,listpath)"
   ]
  },
  {
   "cell_type": "code",
   "execution_count": 10,
   "metadata": {
    "collapsed": true
   },
   "outputs": [],
   "source": [
    "import pickle"
   ]
  },
  {
   "cell_type": "code",
   "execution_count": 10,
   "metadata": {
    "collapsed": false
   },
   "outputs": [
    {
     "ename": "TypeError",
     "evalue": "a bytes-like object is required, not 'str'",
     "output_type": "error",
     "traceback": [
      "\u001b[0;31m---------------------------------------------------------------------------\u001b[0m",
      "\u001b[0;31mTypeError\u001b[0m                                 Traceback (most recent call last)",
      "\u001b[0;32m<ipython-input-10-97254ff93db1>\u001b[0m in \u001b[0;36m<module>\u001b[0;34m()\u001b[0m\n\u001b[1;32m      2\u001b[0m \u001b[1;33m\u001b[0m\u001b[0m\n\u001b[1;32m      3\u001b[0m \u001b[1;32mwith\u001b[0m \u001b[0mopen\u001b[0m\u001b[1;33m(\u001b[0m\u001b[0mlistpath\u001b[0m\u001b[1;33m+\u001b[0m\u001b[1;34m\"league\"\u001b[0m\u001b[1;33m+\u001b[0m\u001b[1;34m\"_seasons.pkl\"\u001b[0m\u001b[1;33m,\u001b[0m\u001b[1;34m\"r\"\u001b[0m\u001b[1;33m)\u001b[0m \u001b[1;32mas\u001b[0m \u001b[0mpkl\u001b[0m\u001b[1;33m:\u001b[0m\u001b[1;33m\u001b[0m\u001b[0m\n\u001b[0;32m----> 4\u001b[0;31m                         \u001b[0mseasons\u001b[0m \u001b[1;33m=\u001b[0m \u001b[0mpickle\u001b[0m\u001b[1;33m.\u001b[0m\u001b[0mload\u001b[0m\u001b[1;33m(\u001b[0m\u001b[0mpkl\u001b[0m\u001b[1;33m)\u001b[0m\u001b[1;33m\u001b[0m\u001b[0m\n\u001b[0m",
      "\u001b[0;31mTypeError\u001b[0m: a bytes-like object is required, not 'str'"
     ]
    }
   ],
   "source": [
    "\n",
    "\n",
    "with open(listpath+\"league\"+\"_seasons.pkl\",\"r\") as pkl: \n",
    "    \t\t\tseasons = pickle.load(pkl)"
   ]
  },
  {
   "cell_type": "code",
   "execution_count": 12,
   "metadata": {
    "collapsed": false
   },
   "outputs": [
    {
     "ename": "TypeError",
     "evalue": "a bytes-like object is required, not 'str'",
     "output_type": "error",
     "traceback": [
      "\u001b[0;31m---------------------------------------------------------------------------\u001b[0m",
      "\u001b[0;31mTypeError\u001b[0m                                 Traceback (most recent call last)",
      "\u001b[0;32m<ipython-input-12-f808941d58f0>\u001b[0m in \u001b[0;36m<module>\u001b[0;34m()\u001b[0m\n\u001b[1;32m      1\u001b[0m \u001b[1;33m\u001b[0m\u001b[0m\n\u001b[0;32m----> 2\u001b[0;31m \u001b[0mpickle\u001b[0m\u001b[1;33m.\u001b[0m\u001b[0mload\u001b[0m\u001b[1;33m(\u001b[0m\u001b[0mopen\u001b[0m\u001b[1;33m(\u001b[0m\u001b[0mlistpath\u001b[0m\u001b[1;33m+\u001b[0m\u001b[1;34m\"La Liga\"\u001b[0m\u001b[1;33m+\u001b[0m\u001b[1;34m\"_seasons.pkl\"\u001b[0m\u001b[1;33m,\u001b[0m\u001b[1;34m\"r\"\u001b[0m\u001b[1;33m)\u001b[0m\u001b[1;33m)\u001b[0m\u001b[1;33m\u001b[0m\u001b[0m\n\u001b[0m",
      "\u001b[0;31mTypeError\u001b[0m: a bytes-like object is required, not 'str'"
     ]
    }
   ],
   "source": [
    "\n",
    "pickle.load(open(listpath+\"La Liga\"+\"_seasons.pkl\",\"r\"))"
   ]
  },
  {
   "cell_type": "code",
   "execution_count": 14,
   "metadata": {
    "collapsed": false
   },
   "outputs": [
    {
     "data": {
      "text/plain": [
       "'../data/Lists/La Liga_seasons.pkl'"
      ]
     },
     "execution_count": 14,
     "metadata": {},
     "output_type": "execute_result"
    }
   ],
   "source": [
    "listpath+\"La Liga\"+\"_seasons.pkl\""
   ]
  },
  {
   "cell_type": "code",
   "execution_count": null,
   "metadata": {
    "collapsed": true
   },
   "outputs": [],
   "source": []
  }
 ],
 "metadata": {
  "kernelspec": {
   "display_name": "Python 3",
   "language": "python",
   "name": "python3"
  },
  "language_info": {
   "codemirror_mode": {
    "name": "ipython",
    "version": 3
   },
   "file_extension": ".py",
   "mimetype": "text/x-python",
   "name": "python",
   "nbconvert_exporter": "python",
   "pygments_lexer": "ipython3",
   "version": "3.6.0"
  }
 },
 "nbformat": 4,
 "nbformat_minor": 2
}
