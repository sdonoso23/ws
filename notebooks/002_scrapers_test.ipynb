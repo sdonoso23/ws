{
 "cells": [
  {
   "cell_type": "code",
   "execution_count": 1,
   "metadata": {
    "collapsed": true
   },
   "outputs": [],
   "source": [
    "import sys\n",
    "import os\n",
    "sys.path.append(os.getcwd() + \"/..\")\n",
    "from ws.scraper import Scraper\n",
    "from selenium import webdriver\n",
    "from ws.constants import *\n",
    "\n"
   ]
  },
  {
   "cell_type": "code",
   "execution_count": 2,
   "metadata": {},
   "outputs": [
    {
     "data": {
      "text/plain": [
       "['La Liga',\n",
       " 'Bundesliga',\n",
       " 'Serie A',\n",
       " 'Premier League',\n",
       " 'Ligue 1',\n",
       " 'Brasileirao',\n",
       " 'Eredivisie',\n",
       " 'Russian Premier League',\n",
       " 'Chinese Super League',\n",
       " 'Liga NOS',\n",
       " 'Super Lig',\n",
       " 'Primera Argentina',\n",
       " 'UEFA Champions League',\n",
       " 'UEFA Europa League',\n",
       " 'FIFA World Cup',\n",
       " 'Major League Soccer']"
      ]
     },
     "execution_count": 2,
     "metadata": {},
     "output_type": "execute_result"
    }
   ],
   "source": [
    "list(LEAGUES.keys())"
   ]
  },
  {
   "cell_type": "code",
   "execution_count": 12,
   "metadata": {},
   "outputs": [
    {
     "name": "stdout",
     "output_type": "stream",
     "text": [
      "16  matches done!\n",
      "21  matches done!\n",
      "11  matches done!\n",
      "last matches done!\n"
     ]
    }
   ],
   "source": [
    "league = \"FIFA World Cup\"\n",
    "\n",
    "sc = Scraper(league)\n",
    "\n"
   ]
  },
  {
   "cell_type": "code",
   "execution_count": 13,
   "metadata": {},
   "outputs": [
    {
     "data": {
      "text/plain": [
       "{'2010': {'id': '2076',\n",
       "  'stages': {'World Cup 1/8 finals': '3532',\n",
       "   'World Cup Bronze Match': '3536',\n",
       "   'World Cup Final': '3535',\n",
       "   'World Cup Quarter Finals': '3533',\n",
       "   'World Cup Semi Finals': '3534',\n",
       "   'World Cup grp. A': '3537',\n",
       "   'World Cup grp. B': '3538',\n",
       "   'World Cup grp. C': '3539',\n",
       "   'World Cup grp. D': '3540',\n",
       "   'World Cup grp. E': '3541',\n",
       "   'World Cup grp. F': '3542',\n",
       "   'World Cup grp. G': '3543',\n",
       "   'World Cup grp. H': '3544'}},\n",
       " '2011-2012': {'id': '2859',\n",
       "  'stages': {'World Cup Qualification AFC 1st and 2nd round': '5248',\n",
       "   'World Cup Qualification AFC 3rd round grp. A': '5684',\n",
       "   'World Cup Qualification AFC 3rd round grp. B': '5685',\n",
       "   'World Cup Qualification AFC 3rd round grp. C': '5686',\n",
       "   'World Cup Qualification AFC 3rd round grp. D': '5687',\n",
       "   'World Cup Qualification AFC 3rd round grp. E': '5688'}},\n",
       " '2011-2013': {'id': '2874',\n",
       "  'stages': {'OFC Nations Cup final stage': '6490',\n",
       "   'World Cup Qualification CAF 1st round': '5779',\n",
       "   'World Cup Qualification CAF 2nd round grp. A': '5911',\n",
       "   'World Cup Qualification CAF 2nd round grp. B': '5912',\n",
       "   'World Cup Qualification CAF 2nd round grp. C': '5913',\n",
       "   'World Cup Qualification CAF 2nd round grp. D': '5914',\n",
       "   'World Cup Qualification CAF 2nd round grp. E': '5915',\n",
       "   'World Cup Qualification CAF 2nd round grp. F': '5916',\n",
       "   'World Cup Qualification CAF 2nd round grp. G': '5917',\n",
       "   'World Cup Qualification CAF 2nd round grp. H': '5918',\n",
       "   'World Cup Qualification CAF 2nd round grp. I': '5919',\n",
       "   'World Cup Qualification CAF 2nd round grp. J': '5920',\n",
       "   'World Cup Qualification CAF 3rd round': '8213',\n",
       "   'World Cup Qualification CONCACAF 1st round': '5322',\n",
       "   'World Cup Qualification CONCACAF 2nd round grp. A': '5780',\n",
       "   'World Cup Qualification CONCACAF 2nd round grp. B': '5781',\n",
       "   'World Cup Qualification CONCACAF 2nd round grp. C': '5782',\n",
       "   'World Cup Qualification CONCACAF 2nd round grp. D': '5783',\n",
       "   'World Cup Qualification CONCACAF 2nd round grp. E': '5784',\n",
       "   'World Cup Qualification CONCACAF 2nd round grp. F': '5785',\n",
       "   'World Cup Qualification CONCACAF 3rd round grp. 1': '5906',\n",
       "   'World Cup Qualification CONCACAF 3rd round grp. 2': '5907',\n",
       "   'World Cup Qualification CONCACAF 3rd round grp. 3': '5908',\n",
       "   'World Cup Qualification CONCACAF 4th round': '7071',\n",
       "   'World Cup Qualification CONMEBOL 1st round': '5677',\n",
       "   'World Cup Qualification OFC 1st round group stage': '5775',\n",
       "   'World Cup Qualification OFC 2nd round grp. A': '5776',\n",
       "   'World Cup Qualification OFC 2nd round grp. B': '5777',\n",
       "   'World Cup Qualification OFC 3rd round group stage': '6589'}},\n",
       " '2012-2013': {'id': '3117',\n",
       "  'stages': {'World Cup Qualification AFC 4th round grp. A': '6184',\n",
       "   'World Cup Qualification AFC 4th round grp. B': '6185',\n",
       "   'World Cup Qualification AFC 5th round': '7791',\n",
       "   'World Cup Qualification UEFA 1st round grp. A': '5968',\n",
       "   'World Cup Qualification UEFA 1st round grp. B': '5970',\n",
       "   'World Cup Qualification UEFA 1st round grp. C': '5969',\n",
       "   'World Cup Qualification UEFA 1st round grp. D': '6036',\n",
       "   'World Cup Qualification UEFA 1st round grp. E': '5971',\n",
       "   'World Cup Qualification UEFA 1st round grp. F': '5972',\n",
       "   'World Cup Qualification UEFA 1st round grp. G': '5973',\n",
       "   'World Cup Qualification UEFA 1st round grp. H': '5974',\n",
       "   'World Cup Qualification UEFA 1st round grp. I': '5828',\n",
       "   'World Cup Qualification UEFA 2nd Round': '8256',\n",
       "   'World Cup Qualification inter-confederation Playoff matches': '8255'}},\n",
       " '2014': {'id': '3768',\n",
       "  'stages': {'World Cup 1/8 finals': '7565',\n",
       "   'World Cup 2014': '10274',\n",
       "   'World Cup Bronze Match': '7568',\n",
       "   'World Cup Final': '7569',\n",
       "   'World Cup Group Stages': '9079',\n",
       "   'World Cup Quarter Finals': '7566',\n",
       "   'World Cup Semi Finals': '7567',\n",
       "   'World Cup grp. A': '7557',\n",
       "   'World Cup grp. B': '7558',\n",
       "   'World Cup grp. C': '7559',\n",
       "   'World Cup grp. D': '7560',\n",
       "   'World Cup grp. E': '7561',\n",
       "   'World Cup grp. F': '7562',\n",
       "   'World Cup grp. G': '7563',\n",
       "   'World Cup grp. H': '7564'}},\n",
       " '2015-2016': {'id': '6452',\n",
       "  'stages': {'World Cup Qualification OFC 1st round group stage': '12747',\n",
       "   'World Cup Qualification OFC 2nd round grp. A': '12748',\n",
       "   'World Cup Qualification OFC 2nd round grp. B': '12749'}},\n",
       " '2015-2017': {'id': '5630',\n",
       "  'stages': {'World Cup Qualification AFC 1st Round': '12078',\n",
       "   'World Cup Qualification AFC 2nd Round Grp. C': '12245',\n",
       "   'World Cup Qualification AFC 2nd Round Grp. D': '12243',\n",
       "   'World Cup Qualification AFC 2nd Round Grp. E': '12244',\n",
       "   'World Cup Qualification AFC 2nd Round Grp. F': '12247',\n",
       "   'World Cup Qualification AFC 2nd Round Grp. G': '12242',\n",
       "   'World Cup Qualification AFC 2nd Round Grp. H': '12246',\n",
       "   'World Cup Qualification AFC 2nd round grp. A': '12249',\n",
       "   'World Cup Qualification AFC 2nd round grp. B': '12241',\n",
       "   'World Cup Qualification AFC 3rd Round Grp. A': '13773',\n",
       "   'World Cup Qualification AFC 3rd Round Grp. B': '13774',\n",
       "   'World Cup Qualification AFC 3rd round grp. A': '13601',\n",
       "   'World Cup Qualification AFC 3rd round grp. B': '13602',\n",
       "   'World Cup Qualification AFC 4th Round': '15526',\n",
       "   'World Cup Qualification CAF 1st Round': '12731',\n",
       "   'World Cup Qualification CAF 2nd Round': '12732',\n",
       "   'World Cup Qualification CAF 3rd Round Grp. A': '13846',\n",
       "   'World Cup Qualification CAF 3rd Round Grp. B': '13847',\n",
       "   'World Cup Qualification CAF 3rd Round Grp. C': '13848',\n",
       "   'World Cup Qualification CAF 3rd Round Grp. D': '13849',\n",
       "   'World Cup Qualification CAF 3rd Round Grp. E': '13850',\n",
       "   'World Cup Qualification CONCACAF 1st round': '11949',\n",
       "   'World Cup Qualification CONCACAF 2nd round': '11950',\n",
       "   'World Cup Qualification CONCACAF 3rd Round': '12743',\n",
       "   'World Cup Qualification CONCACAF 4th Round Grp. A': '12744',\n",
       "   'World Cup Qualification CONCACAF 4th Round Grp. B': '12745',\n",
       "   'World Cup Qualification CONCACAF 4th Round Grp. C': '12746',\n",
       "   'World Cup Qualification CONCACAF Final Stage': '14212',\n",
       "   'World Cup Qualification CONMEBOL 1st round': '12742',\n",
       "   'World Cup Qualification OFC 3rd Round Grp. A': '14144',\n",
       "   'World Cup Qualification OFC 3rd Round Grp. B': '14145',\n",
       "   'World Cup Qualification OFC final stage': '15212'}},\n",
       " '2016': {'id': '6451'},\n",
       " '2016-2017': {'id': '5966',\n",
       "  'stages': {'World Cup Qualification Inter-Confederation Playoff': '15569',\n",
       "   'World Cup Qualification UEFA 1st Round Grp. A': '12733',\n",
       "   'World Cup Qualification UEFA 1st Round Grp. B': '12734',\n",
       "   'World Cup Qualification UEFA 1st Round Grp. C': '12735',\n",
       "   'World Cup Qualification UEFA 1st Round Grp. D': '12736',\n",
       "   'World Cup Qualification UEFA 1st Round Grp. E': '12737',\n",
       "   'World Cup Qualification UEFA 1st Round Grp. F': '12738',\n",
       "   'World Cup Qualification UEFA 1st Round Grp. G': '12739',\n",
       "   'World Cup Qualification UEFA 1st Round Grp. H': '12740',\n",
       "   'World Cup Qualification UEFA 1st Round Grp. I': '12741',\n",
       "   'World Cup Qualification UEFA 2nd Round': '15578'}},\n",
       " '2018': {'id': '5967',\n",
       "  'stages': {'World Cup 1/8 Finals': '12759',\n",
       "   'World Cup Bronze Match': '12762',\n",
       "   'World Cup Final': '12763',\n",
       "   'World Cup Group Stages': '15737',\n",
       "   'World Cup Grp. A': '12751',\n",
       "   'World Cup Grp. B': '12752',\n",
       "   'World Cup Grp. C': '12753',\n",
       "   'World Cup Grp. D': '12754',\n",
       "   'World Cup Grp. E': '12755',\n",
       "   'World Cup Grp. F': '12756',\n",
       "   'World Cup Grp. G': '12757',\n",
       "   'World Cup Grp. H': '12758',\n",
       "   'World Cup Quarter Finals': '12760',\n",
       "   'World Cup Semi Finals': '12761'}}}"
      ]
     },
     "execution_count": 13,
     "metadata": {},
     "output_type": "execute_result"
    }
   ],
   "source": [
    "sc.seasons"
   ]
  },
  {
   "cell_type": "code",
   "execution_count": 10,
   "metadata": {},
   "outputs": [
    {
     "data": {
      "text/plain": [
       "<ws.scraper.Scraper at 0x1118b4208>"
      ]
     },
     "execution_count": 10,
     "metadata": {},
     "output_type": "execute_result"
    }
   ],
   "source": [
    "sc.setSeason(\"2018-2019\")#.setStage(\"Eredivisie\")"
   ]
  },
  {
   "cell_type": "code",
   "execution_count": 11,
   "metadata": {},
   "outputs": [
    {
     "name": "stdout",
     "output_type": "stream",
     "text": [
      "League: Liga NOS\n",
      "Season: 2018-2019\n",
      "Stage: None\n",
      "Available matches: 0\n",
      "Saved Matches: 0\n",
      "Save path: ../data/json/\n",
      "List path: ../data/lists/\n",
      "Driver path: ../../software/chromedriver/chromedriver\n"
     ]
    }
   ],
   "source": [
    "sc.getInfo()"
   ]
  },
  {
   "cell_type": "code",
   "execution_count": 12,
   "metadata": {},
   "outputs": [
    {
     "data": {
      "text/plain": [
       "[]"
      ]
     },
     "execution_count": 12,
     "metadata": {},
     "output_type": "execute_result"
    }
   ],
   "source": []
  },
  {
   "cell_type": "code",
   "execution_count": null,
   "metadata": {
    "collapsed": true
   },
   "outputs": [],
   "source": [
    "sc.updateSeasons()"
   ]
  },
  {
   "cell_type": "code",
   "execution_count": 47,
   "metadata": {},
   "outputs": [
    {
     "name": "stdout",
     "output_type": "stream",
     "text": [
      "19  matches done!\n",
      "12  matches done!\n",
      "19  matches done!\n",
      "10  matches done!\n",
      "11  matches done!\n",
      "10  matches done!\n",
      "18  matches done!\n",
      "19  matches done!\n",
      "10  matches done!\n",
      "21  matches done!\n",
      "19  matches done!\n",
      "11  matches done!\n",
      "11  matches done!\n",
      "9  matches done!\n",
      "10  matches done!\n",
      "9  matches done!\n",
      "11  matches done!\n",
      "8  matches done!\n",
      "last matches done!\n"
     ]
    },
    {
     "data": {
      "text/plain": [
       "<ws.scraper.Scraper at 0x116ccfb70>"
      ]
     },
     "execution_count": 47,
     "metadata": {},
     "output_type": "execute_result"
    }
   ],
   "source": [
    "sc.updateMatchesList()"
   ]
  },
  {
   "cell_type": "code",
   "execution_count": 48,
   "metadata": {},
   "outputs": [
    {
     "data": {
      "text/plain": [
       "218"
      ]
     },
     "execution_count": 48,
     "metadata": {},
     "output_type": "execute_result"
    }
   ],
   "source": [
    "len(sc.matches)"
   ]
  },
  {
   "cell_type": "code",
   "execution_count": 49,
   "metadata": {},
   "outputs": [
    {
     "name": "stdout",
     "output_type": "stream",
     "text": [
      "you already have  167  matches\n",
      "you are missing 51  matches\n",
      "starting scraping of  51  matches\n",
      "2018-09-04 18:10:16   1 matches done  { \" }\n",
      "2018-09-04 18:10:41   2 matches done  { \" }\n",
      "2018-09-04 18:11:02   3 matches done  { \" }\n",
      "2018-09-04 18:11:25   4 matches done  { \" }\n",
      "2018-09-04 18:11:49   5 matches done  { \" }\n",
      "2018-09-04 18:12:16   6 matches done  { \" }\n",
      "2018-09-04 18:12:40   7 matches done  { \" }\n",
      "2018-09-04 18:13:07   8 matches done  { \" }\n",
      "2018-09-04 18:13:30   9 matches done  { \" }\n",
      "2018-09-04 18:13:56   10 matches done  { \" }\n",
      "2018-09-04 18:14:19   11 matches done  { \" }\n",
      "2018-09-04 18:14:47   12 matches done  { \" }\n",
      "2018-09-04 18:15:14   13 matches done  { \" }\n",
      "2018-09-04 18:15:42   14 matches done  { \" }\n",
      "2018-09-04 18:16:06   15 matches done  { \" }\n",
      "2018-09-04 18:16:29   16 matches done  { \" }\n",
      "2018-09-04 18:16:51   17 matches done  { \" }\n",
      "2018-09-04 18:17:14   18 matches done  { \" }\n",
      "2018-09-04 18:17:36   19 matches done  { \" }\n",
      "2018-09-04 18:17:58   20 matches done  { \" }\n",
      "2018-09-04 18:18:21   21 matches done  { \" }\n",
      "2018-09-04 18:18:46   22 matches done  { \" }\n",
      "2018-09-04 18:19:08   23 matches done  { \" }\n",
      "2018-09-04 18:19:33   24 matches done  { \" }\n",
      "2018-09-04 18:19:59   25 matches done  { \" }\n",
      "2018-09-04 18:20:26   26 matches done  { \" }\n",
      "2018-09-04 18:20:53   27 matches done  { \" }\n",
      "2018-09-04 18:21:15   28 matches done  { \" }\n",
      "2018-09-04 18:21:39   29 matches done  { \" }\n",
      "2018-09-04 18:22:05   30 matches done  { \" }\n",
      "2018-09-04 18:22:29   31 matches done  { \" }\n",
      "2018-09-04 18:22:54   32 matches done  { \" }\n",
      "2018-09-04 18:23:19   33 matches done  { \" }\n",
      "2018-09-04 18:23:43   34 matches done  { \" }\n",
      "2018-09-04 18:24:06   35 matches done  { \" }\n",
      "2018-09-04 18:24:29   36 matches done  { \" }\n",
      "2018-09-04 18:24:54   37 matches done  { \" }\n",
      "2018-09-04 18:25:20   38 matches done  { \" }\n",
      "2018-09-04 18:25:47   39 matches done  { \" }\n",
      "2018-09-04 18:26:11   40 matches done  { \" }\n",
      "2018-09-04 18:26:37   41 matches done  { \" }\n",
      "2018-09-04 18:27:03   42 matches done  { \" }\n",
      "2018-09-04 18:27:27   43 matches done  { \" }\n",
      "2018-09-04 18:27:51   44 matches done  { \" }\n",
      "2018-09-04 18:28:13   45 matches done  { \" }\n",
      "2018-09-04 18:28:40   46 matches done  { \" }\n",
      "2018-09-04 18:29:05   47 matches done  { \" }\n",
      "2018-09-04 18:29:33   48 matches done  { \" }\n",
      "2018-09-04 18:29:57   49 matches done  { \" }\n",
      "2018-09-04 18:30:23   50 matches done  { \" }\n",
      "2018-09-04 18:30:45   51 matches done  { \" }\n",
      "Total count of saved matches with new: 218\n"
     ]
    },
    {
     "data": {
      "text/plain": [
       "<ws.scraper.Scraper at 0x116ccfb70>"
      ]
     },
     "execution_count": 49,
     "metadata": {},
     "output_type": "execute_result"
    }
   ],
   "source": [
    "sc.getMatches(60)"
   ]
  },
  {
   "cell_type": "code",
   "execution_count": 19,
   "metadata": {},
   "outputs": [
    {
     "data": {
      "text/plain": [
       "<ws.scraper.Scraper at 0x103e0bcc0>"
      ]
     },
     "execution_count": 19,
     "metadata": {},
     "output_type": "execute_result"
    }
   ],
   "source": [
    "sc.__openDriver__()"
   ]
  },
  {
   "cell_type": "code",
   "execution_count": 20,
   "metadata": {
    "collapsed": true
   },
   "outputs": [],
   "source": [
    "url = \"https://www.whoscored.com/Regions/\"+str(sc.countryid)+\"/Tournaments/\"+str(sc.leagueid)+\"/Seasons/\"+str(sc.seasonid)"
   ]
  },
  {
   "cell_type": "code",
   "execution_count": 21,
   "metadata": {
    "collapsed": true
   },
   "outputs": [],
   "source": [
    "sc.driver.get(url)"
   ]
  },
  {
   "cell_type": "code",
   "execution_count": null,
   "metadata": {
    "collapsed": true
   },
   "outputs": [],
   "source": []
  }
 ],
 "metadata": {
  "kernelspec": {
   "display_name": "Python 3",
   "language": "python",
   "name": "python3"
  },
  "language_info": {
   "codemirror_mode": {
    "name": "ipython",
    "version": 3
   },
   "file_extension": ".py",
   "mimetype": "text/x-python",
   "name": "python",
   "nbconvert_exporter": "python",
   "pygments_lexer": "ipython3",
   "version": "3.6.2"
  }
 },
 "nbformat": 4,
 "nbformat_minor": 2
}
