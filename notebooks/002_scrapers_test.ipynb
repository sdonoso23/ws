{
 "cells": [
  {
   "cell_type": "code",
   "execution_count": 1,
   "metadata": {
    "collapsed": true
   },
   "outputs": [],
   "source": [
    "import sys\n",
    "import os\n",
    "sys.path.append(os.getcwd() + \"/..\")\n",
    "from ws.scraper import Scraper\n",
    "from selenium import webdriver\n",
    "from ws.constants import *\n",
    "\n"
   ]
  },
  {
   "cell_type": "code",
   "execution_count": 5,
   "metadata": {},
   "outputs": [
    {
     "data": {
      "text/plain": [
       "['La Liga',\n",
       " 'Bundesliga',\n",
       " 'Serie A',\n",
       " 'Premier League',\n",
       " 'Ligue 1',\n",
       " 'Brasileirao',\n",
       " 'Eredivisie',\n",
       " 'Russian Premier League',\n",
       " 'Chinese Super League',\n",
       " 'Liga NOS',\n",
       " 'Super Lig',\n",
       " 'Primera Argentina',\n",
       " 'UEFA Champions League',\n",
       " 'UEFA Europa League']"
      ]
     },
     "execution_count": 5,
     "metadata": {},
     "output_type": "execute_result"
    }
   ],
   "source": [
    "list(LEAGUES.keys())"
   ]
  },
  {
   "cell_type": "code",
   "execution_count": 6,
   "metadata": {},
   "outputs": [],
   "source": [
    "league = \"UEFA Champions League\"\n",
    "season = \"2017-2018\"\n",
    "sc = Scraper(league,season)\n",
    "\n"
   ]
  },
  {
   "cell_type": "code",
   "execution_count": 7,
   "metadata": {},
   "outputs": [
    {
     "name": "stdout",
     "output_type": "stream",
     "text": [
      "League: UEFA Champions League\n",
      "Season: 2017-2018\n",
      "Number of matches: 96\n",
      "Save path: ../data/json/\n",
      "List path: ../data/lists/\n",
      "Driver path: ../../chromedriver/chromedriver\n"
     ]
    }
   ],
   "source": [
    "sc.getParams()"
   ]
  },
  {
   "cell_type": "code",
   "execution_count": 14,
   "metadata": {},
   "outputs": [
    {
     "name": "stdout",
     "output_type": "stream",
     "text": [
      "9  matches done!\n",
      "10  matches done!\n",
      "10  matches done!\n",
      "10  matches done!\n",
      "12  matches done!\n",
      "10  matches done!\n",
      "9  matches done!\n",
      "10  matches done!\n",
      "9  matches done!\n",
      "10  matches done!\n",
      "19  matches done!\n",
      "11  matches done!\n",
      "9  matches done!\n",
      "10  matches done!\n",
      "20  matches done!\n",
      "10  matches done!\n",
      "9  matches done!\n",
      "10  matches done!\n",
      "10  matches done!\n",
      "last matches done!\n"
     ]
    }
   ],
   "source": [
    "sc.updateMatchesList()"
   ]
  },
  {
   "cell_type": "code",
   "execution_count": 8,
   "metadata": {},
   "outputs": [
    {
     "name": "stdout",
     "output_type": "stream",
     "text": [
      "you already have  0  matches\n",
      "you are missing 96  matches\n",
      "starting scraping of  96  matches\n",
      "2018-01-21 14:51:25   1 matches done  { \" }\n",
      "2018-01-21 14:51:55   2 matches done  { \" }\n",
      "2018-01-21 14:52:22   3 matches done  { \" }\n",
      "2018-01-21 14:52:47   4 matches done  { \" }\n",
      "2018-01-21 14:53:22   5 matches done  { \" }\n",
      "2018-01-21 14:53:50   6 matches done  { \" }\n",
      "2018-01-21 14:54:16   7 matches done  { \" }\n",
      "2018-01-21 14:54:42   8 matches done  { \" }\n",
      "2018-01-21 14:55:11   9 matches done  { \" }\n",
      "2018-01-21 14:55:36   10 matches done  { \" }\n",
      "2018-01-21 14:57:01   11 matches done  { \" }\n",
      "2018-01-21 14:57:43   12 matches done  { \" }\n",
      "2018-01-21 14:58:18   13 matches done  { \" }\n",
      "2018-01-21 14:58:49   14 matches done  { \" }\n",
      "2018-01-21 14:59:24   15 matches done  { \" }\n",
      "2018-01-21 15:00:04   16 matches done  { \" }\n",
      "2018-01-21 15:00:29   17 matches done  { \" }\n",
      "2018-01-21 15:01:01   18 matches done  { \" }\n",
      "2018-01-21 15:01:33   19 matches done  { \" }\n",
      "2018-01-21 15:02:00   20 matches done  { \" }\n",
      "2018-01-21 15:02:29   21 matches done  { \" }\n",
      "2018-01-21 15:02:53   22 matches done  { \" }\n",
      "2018-01-21 15:03:19   23 matches done  { \" }\n",
      "2018-01-21 15:03:43   24 matches done  { \" }\n",
      "2018-01-21 15:04:06   25 matches done  { \" }\n",
      "2018-01-21 15:04:32   26 matches done  { \" }\n",
      "2018-01-21 15:04:57   27 matches done  { \" }\n",
      "2018-01-21 15:05:22   28 matches done  { \" }\n",
      "2018-01-21 15:05:50   29 matches done  { \" }\n",
      "2018-01-21 15:06:18   30 matches done  { \" }\n",
      "2018-01-21 15:06:45   31 matches done  { \" }\n",
      "2018-01-21 15:07:13   32 matches done  { \" }\n",
      "2018-01-21 15:07:40   33 matches done  { \" }\n",
      "2018-01-21 15:08:07   34 matches done  { \" }\n",
      "2018-01-21 15:08:35   35 matches done  { \" }\n",
      "2018-01-21 15:09:00   36 matches done  { \" }\n",
      "2018-01-21 15:09:28   37 matches done  { \" }\n",
      "2018-01-21 15:09:54   38 matches done  { \" }\n",
      "2018-01-21 15:10:22   39 matches done  { \" }\n",
      "2018-01-21 15:10:50   40 matches done  { \" }\n",
      "2018-01-21 15:11:18   41 matches done  { \" }\n",
      "2018-01-21 15:11:42   42 matches done  { \" }\n",
      "2018-01-21 15:12:13   43 matches done  { \" }\n",
      "2018-01-21 15:12:38   44 matches done  { \" }\n",
      "2018-01-21 15:13:07   45 matches done  { \" }\n",
      "2018-01-21 15:13:35   46 matches done  { \" }\n",
      "2018-01-21 15:14:06   47 matches done  { \" }\n",
      "2018-01-21 15:14:34   48 matches done  { \" }\n",
      "2018-01-21 15:15:00   49 matches done  { \" }\n",
      "2018-01-21 15:15:29   50 matches done  { \" }\n",
      "2018-01-21 15:15:52   51 matches done  { \" }\n",
      "2018-01-21 15:16:20   52 matches done  { \" }\n",
      "2018-01-21 15:16:49   53 matches done  { \" }\n",
      "2018-01-21 15:17:18   54 matches done  { \" }\n",
      "2018-01-21 15:17:48   55 matches done  { \" }\n",
      "2018-01-21 15:18:14   56 matches done  { \" }\n",
      "2018-01-21 15:18:39   57 matches done  { \" }\n",
      "2018-01-21 15:19:06   58 matches done  { \" }\n",
      "2018-01-21 15:19:29   59 matches done  { \" }\n",
      "2018-01-21 15:19:56   60 matches done  { \" }\n",
      "2018-01-21 15:20:21   61 matches done  { \" }\n",
      "2018-01-21 15:20:47   62 matches done  { \" }\n",
      "2018-01-21 15:21:14   63 matches done  { \" }\n",
      "2018-01-21 15:21:40   64 matches done  { \" }\n",
      "2018-01-21 15:22:08   65 matches done  { \" }\n",
      "2018-01-21 15:22:35   66 matches done  { \" }\n",
      "2018-01-21 15:23:02   67 matches done  { \" }\n",
      "2018-01-21 15:23:34   68 matches done  { \" }\n",
      "2018-01-21 15:24:04   69 matches done  { \" }\n",
      "2018-01-21 15:24:33   70 matches done  { \" }\n",
      "2018-01-21 15:25:00   71 matches done  { \" }\n",
      "2018-01-21 15:25:23   72 matches done  { \" }\n",
      "2018-01-21 15:25:45   73 matches done  { \" }\n",
      "2018-01-21 15:26:11   74 matches done  { \" }\n",
      "2018-01-21 15:26:36   75 matches done  { \" }\n",
      "2018-01-21 15:27:04   76 matches done  { \" }\n",
      "2018-01-21 15:27:28   77 matches done  { \" }\n",
      "2018-01-21 15:27:53   78 matches done  { \" }\n",
      "2018-01-21 15:28:20   79 matches done  { \" }\n",
      "2018-01-21 15:28:47   80 matches done  { \" }\n",
      "2018-01-21 15:29:10   81 matches done  { \" }\n",
      "2018-01-21 15:29:37   82 matches done  { \" }\n",
      "2018-01-21 15:30:03   83 matches done  { \" }\n",
      "2018-01-21 15:30:27   84 matches done  { \" }\n",
      "2018-01-21 15:30:53   85 matches done  { \" }\n",
      "2018-01-21 15:31:15   86 matches done  { \" }\n",
      "2018-01-21 15:31:41   87 matches done  { \" }\n",
      "2018-01-21 15:32:11   88 matches done  { \" }\n",
      "2018-01-21 15:32:35   89 matches done  { \" }\n",
      "2018-01-21 15:32:57   90 matches done  { \" }\n",
      "2018-01-21 15:33:24   91 matches done  { \" }\n",
      "2018-01-21 15:33:51   92 matches done  { \" }\n",
      "2018-01-21 15:34:22   93 matches done  { \" }\n",
      "2018-01-21 15:34:48   94 matches done  { \" }\n",
      "2018-01-21 15:35:15   95 matches done  { \" }\n",
      "2018-01-21 15:35:40   96 matches done  { \" }\n"
     ]
    }
   ],
   "source": [
    "sc.getMatches(100)"
   ]
  },
  {
   "cell_type": "code",
   "execution_count": null,
   "metadata": {
    "collapsed": true
   },
   "outputs": [],
   "source": []
  }
 ],
 "metadata": {
  "kernelspec": {
   "display_name": "Python 3",
   "language": "python",
   "name": "python3"
  },
  "language_info": {
   "codemirror_mode": {
    "name": "ipython",
    "version": 3
   },
   "file_extension": ".py",
   "mimetype": "text/x-python",
   "name": "python",
   "nbconvert_exporter": "python",
   "pygments_lexer": "ipython3",
   "version": "3.6.2"
  }
 },
 "nbformat": 4,
 "nbformat_minor": 2
}
