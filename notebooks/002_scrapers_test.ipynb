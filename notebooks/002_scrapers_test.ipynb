{
 "cells": [
  {
   "cell_type": "code",
   "execution_count": 1,
   "metadata": {},
   "outputs": [],
   "source": [
    "import sys\n",
    "import os\n",
    "sys.path.append(os.getcwd() + \"/..\")\n",
    "from ws.scraper import Scraper\n",
    "from selenium import webdriver\n",
    "from ws.constants import *\n",
    "\n"
   ]
  },
  {
   "cell_type": "code",
   "execution_count": 2,
   "metadata": {},
   "outputs": [
    {
     "data": {
      "text/plain": [
       "['La Liga',\n",
       " 'Bundesliga',\n",
       " 'Serie A',\n",
       " 'Premier League',\n",
       " 'Ligue 1',\n",
       " 'Brasileirao',\n",
       " 'Eredivisie',\n",
       " 'Russian Premier League',\n",
       " 'Chinese Super League',\n",
       " 'Liga NOS',\n",
       " 'Super Lig',\n",
       " 'Primera Argentina',\n",
       " 'UEFA Champions League',\n",
       " 'UEFA Europa League',\n",
       " 'FIFA World Cup',\n",
       " 'Major League Soccer']"
      ]
     },
     "execution_count": 2,
     "metadata": {},
     "output_type": "execute_result"
    }
   ],
   "source": [
    "list(LEAGUES.keys())"
   ]
  },
  {
   "cell_type": "code",
   "execution_count": 3,
   "metadata": {},
   "outputs": [],
   "source": [
    "league = \"La Liga\"\n",
    "\n",
    "sc = Scraper(league,db=DB)\n",
    "\n"
   ]
  },
  {
   "cell_type": "code",
   "execution_count": 4,
   "metadata": {},
   "outputs": [
    {
     "data": {
      "text/plain": [
       "{'2018-2019': {'id': '7466'},\n",
       " '2017-2018': {'id': '6960'},\n",
       " '2016-2017': {'id': '6436'},\n",
       " '2015-2016': {'id': '5933'},\n",
       " '2014-2015': {'id': '5435'},\n",
       " '2013-2014': {'id': '3922'},\n",
       " '2012-2013': {'id': '3470'},\n",
       " '2011-2012': {'id': '3004'},\n",
       " '2010-2011': {'id': '2596'},\n",
       " '2009-2010': {'id': '1929'}}"
      ]
     },
     "execution_count": 4,
     "metadata": {},
     "output_type": "execute_result"
    }
   ],
   "source": [
    "sc.seasons"
   ]
  },
  {
   "cell_type": "code",
   "execution_count": 5,
   "metadata": {},
   "outputs": [
    {
     "data": {
      "text/plain": [
       "<ws.scraper.Scraper at 0x11158afd0>"
      ]
     },
     "execution_count": 5,
     "metadata": {},
     "output_type": "execute_result"
    }
   ],
   "source": [
    "sc.setSeason(\"2018-2019\")#.setStage(\"Champions League Group Stages\")"
   ]
  },
  {
   "cell_type": "code",
   "execution_count": 6,
   "metadata": {},
   "outputs": [
    {
     "name": "stdout",
     "output_type": "stream",
     "text": [
      "League: La Liga\n",
      "Season: 2018-2019\n",
      "Stage: None\n",
      "Available matches: 330\n",
      "Saved Matches: 241\n",
      "Save path: ../data/json/\n",
      "List path: ../data/lists/\n",
      "Driver path: ../../software/chromedriver/chromedriver\n"
     ]
    }
   ],
   "source": [
    "sc.getInfo()"
   ]
  },
  {
   "cell_type": "code",
   "execution_count": null,
   "metadata": {},
   "outputs": [],
   "source": []
  },
  {
   "cell_type": "code",
   "execution_count": 37,
   "metadata": {},
   "outputs": [
    {
     "ename": "WebDriverException",
     "evalue": "Message: unknown error: cannot determine loading status\nfrom unknown error: cannot determine loading status\nfrom disconnected: received Inspector.detached event\n  (Session info: chrome=72.0.3626.109)\n  (Driver info: chromedriver=2.44.609545 (c2f88692e98ce7233d2df7c724465ecacfe74df5),platform=Mac OS X 10.11.6 x86_64)\n",
     "output_type": "error",
     "traceback": [
      "\u001b[0;31m---------------------------------------------------------------------------\u001b[0m",
      "\u001b[0;31mWebDriverException\u001b[0m                        Traceback (most recent call last)",
      "\u001b[0;32m<ipython-input-37-23fae4c0b236>\u001b[0m in \u001b[0;36m<module>\u001b[0;34m\u001b[0m\n\u001b[0;32m----> 1\u001b[0;31m \u001b[0msc\u001b[0m\u001b[0;34m.\u001b[0m\u001b[0mupdateSeasons\u001b[0m\u001b[0;34m(\u001b[0m\u001b[0;34m)\u001b[0m\u001b[0;34m\u001b[0m\u001b[0m\n\u001b[0m",
      "\u001b[0;32m~/Desktop/cartella/ws/notebooks/../ws/scraper.py\u001b[0m in \u001b[0;36mupdateSeasons\u001b[0;34m(self)\u001b[0m\n\u001b[1;32m    124\u001b[0m         \u001b[0murl\u001b[0m \u001b[0;34m=\u001b[0m \u001b[0;34m\"https://www.whoscored.com/Regions/\"\u001b[0m\u001b[0;34m+\u001b[0m\u001b[0mstr\u001b[0m\u001b[0;34m(\u001b[0m\u001b[0mself\u001b[0m\u001b[0;34m.\u001b[0m\u001b[0mcountryid\u001b[0m\u001b[0;34m)\u001b[0m\u001b[0;34m+\u001b[0m\u001b[0;34m\"/Tournaments/\"\u001b[0m\u001b[0;34m+\u001b[0m\u001b[0mstr\u001b[0m\u001b[0;34m(\u001b[0m\u001b[0mself\u001b[0m\u001b[0;34m.\u001b[0m\u001b[0mleagueid\u001b[0m\u001b[0;34m)\u001b[0m\u001b[0;34m\u001b[0m\u001b[0m\n\u001b[1;32m    125\u001b[0m \u001b[0;34m\u001b[0m\u001b[0m\n\u001b[0;32m--> 126\u001b[0;31m         \u001b[0mself\u001b[0m\u001b[0;34m.\u001b[0m\u001b[0mdriver\u001b[0m\u001b[0;34m.\u001b[0m\u001b[0mget\u001b[0m\u001b[0;34m(\u001b[0m\u001b[0murl\u001b[0m\u001b[0;34m)\u001b[0m\u001b[0;34m\u001b[0m\u001b[0m\n\u001b[0m\u001b[1;32m    127\u001b[0m \u001b[0;34m\u001b[0m\u001b[0m\n\u001b[1;32m    128\u001b[0m         \u001b[0;31m# Gets seasons list\u001b[0m\u001b[0;34m\u001b[0m\u001b[0;34m\u001b[0m\u001b[0m\n",
      "\u001b[0;32m~/.pyenv/versions/3.6.5/envs/py36/lib/python3.6/site-packages/selenium/webdriver/remote/webdriver.py\u001b[0m in \u001b[0;36mget\u001b[0;34m(self, url)\u001b[0m\n\u001b[1;32m    331\u001b[0m         \u001b[0mLoads\u001b[0m \u001b[0ma\u001b[0m \u001b[0mweb\u001b[0m \u001b[0mpage\u001b[0m \u001b[0;32min\u001b[0m \u001b[0mthe\u001b[0m \u001b[0mcurrent\u001b[0m \u001b[0mbrowser\u001b[0m \u001b[0msession\u001b[0m\u001b[0;34m.\u001b[0m\u001b[0;34m\u001b[0m\u001b[0m\n\u001b[1;32m    332\u001b[0m         \"\"\"\n\u001b[0;32m--> 333\u001b[0;31m         \u001b[0mself\u001b[0m\u001b[0;34m.\u001b[0m\u001b[0mexecute\u001b[0m\u001b[0;34m(\u001b[0m\u001b[0mCommand\u001b[0m\u001b[0;34m.\u001b[0m\u001b[0mGET\u001b[0m\u001b[0;34m,\u001b[0m \u001b[0;34m{\u001b[0m\u001b[0;34m'url'\u001b[0m\u001b[0;34m:\u001b[0m \u001b[0murl\u001b[0m\u001b[0;34m}\u001b[0m\u001b[0;34m)\u001b[0m\u001b[0;34m\u001b[0m\u001b[0m\n\u001b[0m\u001b[1;32m    334\u001b[0m \u001b[0;34m\u001b[0m\u001b[0m\n\u001b[1;32m    335\u001b[0m     \u001b[0;34m@\u001b[0m\u001b[0mproperty\u001b[0m\u001b[0;34m\u001b[0m\u001b[0m\n",
      "\u001b[0;32m~/.pyenv/versions/3.6.5/envs/py36/lib/python3.6/site-packages/selenium/webdriver/remote/webdriver.py\u001b[0m in \u001b[0;36mexecute\u001b[0;34m(self, driver_command, params)\u001b[0m\n\u001b[1;32m    319\u001b[0m         \u001b[0mresponse\u001b[0m \u001b[0;34m=\u001b[0m \u001b[0mself\u001b[0m\u001b[0;34m.\u001b[0m\u001b[0mcommand_executor\u001b[0m\u001b[0;34m.\u001b[0m\u001b[0mexecute\u001b[0m\u001b[0;34m(\u001b[0m\u001b[0mdriver_command\u001b[0m\u001b[0;34m,\u001b[0m \u001b[0mparams\u001b[0m\u001b[0;34m)\u001b[0m\u001b[0;34m\u001b[0m\u001b[0m\n\u001b[1;32m    320\u001b[0m         \u001b[0;32mif\u001b[0m \u001b[0mresponse\u001b[0m\u001b[0;34m:\u001b[0m\u001b[0;34m\u001b[0m\u001b[0m\n\u001b[0;32m--> 321\u001b[0;31m             \u001b[0mself\u001b[0m\u001b[0;34m.\u001b[0m\u001b[0merror_handler\u001b[0m\u001b[0;34m.\u001b[0m\u001b[0mcheck_response\u001b[0m\u001b[0;34m(\u001b[0m\u001b[0mresponse\u001b[0m\u001b[0;34m)\u001b[0m\u001b[0;34m\u001b[0m\u001b[0m\n\u001b[0m\u001b[1;32m    322\u001b[0m             response['value'] = self._unwrap_value(\n\u001b[1;32m    323\u001b[0m                 response.get('value', None))\n",
      "\u001b[0;32m~/.pyenv/versions/3.6.5/envs/py36/lib/python3.6/site-packages/selenium/webdriver/remote/errorhandler.py\u001b[0m in \u001b[0;36mcheck_response\u001b[0;34m(self, response)\u001b[0m\n\u001b[1;32m    240\u001b[0m                 \u001b[0malert_text\u001b[0m \u001b[0;34m=\u001b[0m \u001b[0mvalue\u001b[0m\u001b[0;34m[\u001b[0m\u001b[0;34m'alert'\u001b[0m\u001b[0;34m]\u001b[0m\u001b[0;34m.\u001b[0m\u001b[0mget\u001b[0m\u001b[0;34m(\u001b[0m\u001b[0;34m'text'\u001b[0m\u001b[0;34m)\u001b[0m\u001b[0;34m\u001b[0m\u001b[0m\n\u001b[1;32m    241\u001b[0m             \u001b[0;32mraise\u001b[0m \u001b[0mexception_class\u001b[0m\u001b[0;34m(\u001b[0m\u001b[0mmessage\u001b[0m\u001b[0;34m,\u001b[0m \u001b[0mscreen\u001b[0m\u001b[0;34m,\u001b[0m \u001b[0mstacktrace\u001b[0m\u001b[0;34m,\u001b[0m \u001b[0malert_text\u001b[0m\u001b[0;34m)\u001b[0m\u001b[0;34m\u001b[0m\u001b[0m\n\u001b[0;32m--> 242\u001b[0;31m         \u001b[0;32mraise\u001b[0m \u001b[0mexception_class\u001b[0m\u001b[0;34m(\u001b[0m\u001b[0mmessage\u001b[0m\u001b[0;34m,\u001b[0m \u001b[0mscreen\u001b[0m\u001b[0;34m,\u001b[0m \u001b[0mstacktrace\u001b[0m\u001b[0;34m)\u001b[0m\u001b[0;34m\u001b[0m\u001b[0m\n\u001b[0m\u001b[1;32m    243\u001b[0m \u001b[0;34m\u001b[0m\u001b[0m\n\u001b[1;32m    244\u001b[0m     \u001b[0;32mdef\u001b[0m \u001b[0m_value_or_default\u001b[0m\u001b[0;34m(\u001b[0m\u001b[0mself\u001b[0m\u001b[0;34m,\u001b[0m \u001b[0mobj\u001b[0m\u001b[0;34m,\u001b[0m \u001b[0mkey\u001b[0m\u001b[0;34m,\u001b[0m \u001b[0mdefault\u001b[0m\u001b[0;34m)\u001b[0m\u001b[0;34m:\u001b[0m\u001b[0;34m\u001b[0m\u001b[0m\n",
      "\u001b[0;31mWebDriverException\u001b[0m: Message: unknown error: cannot determine loading status\nfrom unknown error: cannot determine loading status\nfrom disconnected: received Inspector.detached event\n  (Session info: chrome=72.0.3626.109)\n  (Driver info: chromedriver=2.44.609545 (c2f88692e98ce7233d2df7c724465ecacfe74df5),platform=Mac OS X 10.11.6 x86_64)\n"
     ]
    }
   ],
   "source": [
    "sc.updateSeasons()"
   ]
  },
  {
   "cell_type": "code",
   "execution_count": 7,
   "metadata": {},
   "outputs": [
    {
     "name": "stdout",
     "output_type": "stream",
     "text": [
      "10  matches done!\n",
      "10  matches done!\n",
      "11  matches done!\n",
      "19  matches done!\n",
      "11  matches done!\n",
      "9  matches done!\n",
      "20  matches done!\n",
      "10  matches done!\n",
      "10  matches done!\n",
      "11  matches done!\n",
      "10  matches done!\n",
      "10  matches done!\n",
      "10  matches done!\n",
      "10  matches done!\n",
      "10  matches done!\n",
      "10  matches done!\n",
      "10  matches done!\n",
      "10  matches done!\n",
      "10  matches done!\n",
      "10  matches done!\n",
      "10  matches done!\n",
      "10  matches done!\n",
      "10  matches done!\n",
      "9  matches done!\n",
      "11  matches done!\n",
      "9  matches done!\n",
      "12  matches done!\n",
      "9  matches done!\n",
      "11  matches done!\n",
      "19  matches done!\n",
      "11  matches done!\n",
      "9  matches done!\n",
      "11  matches done!\n",
      "10  matches done!\n",
      "8  matches done!\n",
      "last matches done!\n"
     ]
    },
    {
     "data": {
      "text/plain": [
       "<ws.scraper.Scraper at 0x11158afd0>"
      ]
     },
     "execution_count": 7,
     "metadata": {},
     "output_type": "execute_result"
    }
   ],
   "source": [
    "sc.updateMatchesList()"
   ]
  },
  {
   "cell_type": "code",
   "execution_count": 8,
   "metadata": {},
   "outputs": [
    {
     "data": {
      "text/plain": [
       "380"
      ]
     },
     "execution_count": 8,
     "metadata": {},
     "output_type": "execute_result"
    }
   ],
   "source": [
    "len(sc.matches)"
   ]
  },
  {
   "cell_type": "code",
   "execution_count": 11,
   "metadata": {},
   "outputs": [
    {
     "name": "stdout",
     "output_type": "stream",
     "text": [
      "you already have  341  matches\n",
      "you are missing 39  matches\n",
      "starting scraping of  39  matches\n",
      "2019-06-05 16:51:05   1 matches done  { \" }\n",
      "2019-06-05 16:51:31   2 matches done  { \" }\n",
      "2019-06-05 16:51:57   3 matches done  { \" }\n",
      "2019-06-05 16:52:21   4 matches done  { \" }\n",
      "2019-06-05 16:52:43   5 matches done  { \" }\n",
      "2019-06-05 16:53:10   6 matches done  { \" }\n",
      "2019-06-05 16:53:32   7 matches done  { \" }\n",
      "2019-06-05 16:53:56   8 matches done  { \" }\n",
      "2019-06-05 16:54:22   9 matches done  { \" }\n",
      "2019-06-05 16:54:47   10 matches done  { \" }\n",
      "2019-06-05 16:55:14   11 matches done  { \" }\n",
      "2019-06-05 16:55:40   12 matches done  { \" }\n",
      "2019-06-05 16:56:02   13 matches done  { \" }\n",
      "2019-06-05 16:56:25   14 matches done  { \" }\n",
      "2019-06-05 16:56:53   15 matches done  { \" }\n",
      "2019-06-05 16:57:18   16 matches done  { \" }\n",
      "2019-06-05 16:57:45   17 matches done  { \" }\n",
      "2019-06-05 16:58:11   18 matches done  { \" }\n",
      "2019-06-05 16:58:36   19 matches done  { \" }\n",
      "2019-06-05 16:59:00   20 matches done  { \" }\n",
      "2019-06-05 16:59:27   21 matches done  { \" }\n",
      "2019-06-05 16:59:51   22 matches done  { \" }\n",
      "2019-06-05 17:00:18   23 matches done  { \" }\n",
      "2019-06-05 17:00:41   24 matches done  { \" }\n",
      "2019-06-05 17:01:05   25 matches done  { \" }\n",
      "2019-06-05 17:01:30   26 matches done  { \" }\n",
      "2019-06-05 17:01:53   27 matches done  { \" }\n",
      "2019-06-05 17:02:15   28 matches done  { \" }\n",
      "2019-06-05 17:02:42   29 matches done  { \" }\n",
      "2019-06-05 17:03:04   30 matches done  { \" }\n",
      "2019-06-05 17:03:29   31 matches done  { \" }\n",
      "2019-06-05 17:03:53   32 matches done  { \" }\n",
      "2019-06-05 17:04:17   33 matches done  { \" }\n",
      "2019-06-05 17:04:39   34 matches done  { \" }\n",
      "2019-06-05 17:05:03   35 matches done  { \" }\n",
      "2019-06-05 17:05:25   36 matches done  { \" }\n",
      "2019-06-05 17:05:47   37 matches done  { \" }\n",
      "2019-06-05 17:06:15   38 matches done  { \" }\n",
      "2019-06-05 17:06:42   39 matches done  { \" }\n",
      "Total count of saved matches with new: 380\n"
     ]
    },
    {
     "data": {
      "text/plain": [
       "<ws.scraper.Scraper at 0x11158afd0>"
      ]
     },
     "execution_count": 11,
     "metadata": {},
     "output_type": "execute_result"
    }
   ],
   "source": [
    "sc.getMatches(50,save=True)"
   ]
  },
  {
   "cell_type": "code",
   "execution_count": 42,
   "metadata": {},
   "outputs": [
    {
     "data": {
      "text/plain": [
       "0.43219280948873623"
      ]
     },
     "execution_count": 42,
     "metadata": {},
     "output_type": "execute_result"
    }
   ],
   "source": [
    "import numpy as np\n",
    "p = [0.05]*2 \n",
    "-np.sum(p*np.log(p))/np.log(2)\n"
   ]
  },
  {
   "cell_type": "code",
   "execution_count": 43,
   "metadata": {},
   "outputs": [],
   "source": [
    "px = [0.01]*10\n"
   ]
  },
  {
   "cell_type": "code",
   "execution_count": 44,
   "metadata": {},
   "outputs": [
    {
     "data": {
      "text/plain": [
       "0.19999999999999996"
      ]
     },
     "execution_count": 44,
     "metadata": {},
     "output_type": "execute_result"
    }
   ],
   "source": [
    "-(np.sum(px*np.log(px)))/np.log(10)"
   ]
  },
  {
   "cell_type": "code",
   "execution_count": null,
   "metadata": {},
   "outputs": [],
   "source": []
  }
 ],
 "metadata": {
  "kernelspec": {
   "display_name": "Python 3",
   "language": "python",
   "name": "python3"
  },
  "language_info": {
   "codemirror_mode": {
    "name": "ipython",
    "version": 3
   },
   "file_extension": ".py",
   "mimetype": "text/x-python",
   "name": "python",
   "nbconvert_exporter": "python",
   "pygments_lexer": "ipython3",
   "version": "3.6.5"
  }
 },
 "nbformat": 4,
 "nbformat_minor": 2
}
