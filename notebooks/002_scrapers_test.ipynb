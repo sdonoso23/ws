{
 "cells": [
  {
   "cell_type": "code",
   "execution_count": 1,
   "metadata": {
    "collapsed": true
   },
   "outputs": [],
   "source": [
    "import sys\n",
    "import os\n",
    "sys.path.append(os.getcwd() + \"/..\")\n",
    "from ws.scraper import Scraper\n",
    "from selenium import webdriver\n",
    "from ws.constants import *\n",
    "\n"
   ]
  },
  {
   "cell_type": "code",
   "execution_count": 2,
   "metadata": {},
   "outputs": [
    {
     "data": {
      "text/plain": [
       "['La Liga',\n",
       " 'Bundesliga',\n",
       " 'Serie A',\n",
       " 'Premier League',\n",
       " 'Ligue 1',\n",
       " 'Brasileirao',\n",
       " 'Eredivisie',\n",
       " 'Russian Premier League',\n",
       " 'Chinese Super League',\n",
       " 'Liga NOS',\n",
       " 'Super Lig',\n",
       " 'Primera Argentina',\n",
       " 'UEFA Champions League',\n",
       " 'UEFA Europa League',\n",
       " 'FIFA World Cup',\n",
       " 'Major League Soccer']"
      ]
     },
     "execution_count": 2,
     "metadata": {},
     "output_type": "execute_result"
    }
   ],
   "source": [
    "list(LEAGUES.keys())"
   ]
  },
  {
   "cell_type": "code",
   "execution_count": 50,
   "metadata": {
    "collapsed": true
   },
   "outputs": [],
   "source": [
    "league = \"Ligue 1\"\n",
    "\n",
    "sc = Scraper(league,db=DB)\n",
    "\n"
   ]
  },
  {
   "cell_type": "code",
   "execution_count": 51,
   "metadata": {},
   "outputs": [
    {
     "data": {
      "text/plain": [
       "{'2009-2010': {'id': '1839'},\n",
       " '2010-2011': {'id': '2417'},\n",
       " '2011-2012': {'id': '2920'},\n",
       " '2012-2013': {'id': '3356'},\n",
       " '2013-2014': {'id': '3836'},\n",
       " '2014-2015': {'id': '4279'},\n",
       " '2015-2016': {'id': '5830'},\n",
       " '2016-2017': {'id': '6318'},\n",
       " '2017-2018': {'id': '6833'},\n",
       " '2018-2019': {'id': '7344'}}"
      ]
     },
     "execution_count": 51,
     "metadata": {},
     "output_type": "execute_result"
    }
   ],
   "source": [
    "sc.seasons"
   ]
  },
  {
   "cell_type": "code",
   "execution_count": 52,
   "metadata": {},
   "outputs": [
    {
     "data": {
      "text/plain": [
       "<ws.scraper.Scraper at 0x10c0c6588>"
      ]
     },
     "execution_count": 52,
     "metadata": {},
     "output_type": "execute_result"
    }
   ],
   "source": [
    "sc.setSeason(\"2018-2019\")#.setStage(\"Champions League Group Stages\")"
   ]
  },
  {
   "cell_type": "code",
   "execution_count": 53,
   "metadata": {},
   "outputs": [
    {
     "name": "stdout",
     "output_type": "stream",
     "text": [
      "League: Ligue 1\n",
      "Season: 2018-2019\n",
      "Stage: None\n",
      "Available matches: 50\n",
      "Saved Matches: 50\n",
      "Save path: ../data/json/\n",
      "List path: ../data/lists/\n",
      "Driver path: ../../software/chromedriver/chromedriver\n"
     ]
    }
   ],
   "source": [
    "sc.getInfo()"
   ]
  },
  {
   "cell_type": "code",
   "execution_count": 12,
   "metadata": {},
   "outputs": [
    {
     "data": {
      "text/plain": [
       "[]"
      ]
     },
     "execution_count": 12,
     "metadata": {},
     "output_type": "execute_result"
    }
   ],
   "source": []
  },
  {
   "cell_type": "code",
   "execution_count": null,
   "metadata": {
    "collapsed": true
   },
   "outputs": [],
   "source": [
    "sc.updateSeasons()"
   ]
  },
  {
   "cell_type": "code",
   "execution_count": 54,
   "metadata": {},
   "outputs": [
    {
     "name": "stdout",
     "output_type": "stream",
     "text": [
      "20  matches done!\n",
      "10  matches done!\n",
      "scraping error\n",
      "10  matches done!\n",
      "last matches done!\n"
     ]
    },
    {
     "data": {
      "text/plain": [
       "<ws.scraper.Scraper at 0x10c0c6588>"
      ]
     },
     "execution_count": 54,
     "metadata": {},
     "output_type": "execute_result"
    }
   ],
   "source": [
    "sc.updateMatchesList()"
   ]
  },
  {
   "cell_type": "code",
   "execution_count": 55,
   "metadata": {},
   "outputs": [
    {
     "data": {
      "text/plain": [
       "60"
      ]
     },
     "execution_count": 55,
     "metadata": {},
     "output_type": "execute_result"
    }
   ],
   "source": [
    "len(sc.matches)"
   ]
  },
  {
   "cell_type": "code",
   "execution_count": 56,
   "metadata": {},
   "outputs": [
    {
     "name": "stdout",
     "output_type": "stream",
     "text": [
      "you already have  50  matches\n",
      "you are missing 10  matches\n",
      "starting scraping of  10  matches\n",
      "2018-09-24 15:26:42   1 matches done  { \" }\n",
      "2018-09-24 15:27:04   2 matches done  { \" }\n",
      "2018-09-24 15:27:27   3 matches done  { \" }\n",
      "2018-09-24 15:27:55   4 matches done  { \" }\n",
      "2018-09-24 15:28:21   5 matches done  { \" }\n",
      "2018-09-24 15:28:45   6 matches done  { \" }\n",
      "2018-09-24 15:29:10   7 matches done  { \" }\n",
      "2018-09-24 15:29:33   8 matches done  { \" }\n",
      "2018-09-24 15:29:59   9 matches done  { \" }\n",
      "2018-09-24 15:30:26   10 matches done  { \" }\n",
      "Total count of saved matches with new: 60\n"
     ]
    },
    {
     "data": {
      "text/plain": [
       "<ws.scraper.Scraper at 0x10c0c6588>"
      ]
     },
     "execution_count": 56,
     "metadata": {},
     "output_type": "execute_result"
    }
   ],
   "source": [
    "sc.getMatches(50,save=True)"
   ]
  },
  {
   "cell_type": "code",
   "execution_count": null,
   "metadata": {
    "collapsed": true
   },
   "outputs": [],
   "source": []
  },
  {
   "cell_type": "code",
   "execution_count": null,
   "metadata": {
    "collapsed": true
   },
   "outputs": [],
   "source": []
  }
 ],
 "metadata": {
  "kernelspec": {
   "display_name": "Python 3",
   "language": "python",
   "name": "python3"
  },
  "language_info": {
   "codemirror_mode": {
    "name": "ipython",
    "version": 3
   },
   "file_extension": ".py",
   "mimetype": "text/x-python",
   "name": "python",
   "nbconvert_exporter": "python",
   "pygments_lexer": "ipython3",
   "version": "3.6.2"
  }
 },
 "nbformat": 4,
 "nbformat_minor": 2
}
