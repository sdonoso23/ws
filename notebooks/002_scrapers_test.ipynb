{
 "cells": [
  {
   "cell_type": "code",
   "execution_count": 1,
   "metadata": {
    "collapsed": true
   },
   "outputs": [],
   "source": [
    "import sys\n",
    "import os\n",
    "sys.path.append(os.getcwd() + \"/..\")\n",
    "from ws.scraper import Scraper\n",
    "from selenium import webdriver\n",
    "from ws.constants import *\n",
    "\n"
   ]
  },
  {
   "cell_type": "code",
   "execution_count": 2,
   "metadata": {},
   "outputs": [
    {
     "data": {
      "text/plain": [
       "['La Liga',\n",
       " 'Bundesliga',\n",
       " 'Serie A',\n",
       " 'Premier League',\n",
       " 'Ligue 1',\n",
       " 'Brasileirao',\n",
       " 'Eredivisie',\n",
       " 'Russian Premier League',\n",
       " 'Chinese Super League',\n",
       " 'Liga NOS',\n",
       " 'Super Lig',\n",
       " 'Primera Argentina',\n",
       " 'UEFA Champions League',\n",
       " 'UEFA Europa League',\n",
       " 'FIFA World Cup',\n",
       " 'Major League Soccer']"
      ]
     },
     "execution_count": 2,
     "metadata": {},
     "output_type": "execute_result"
    }
   ],
   "source": [
    "list(LEAGUES.keys())"
   ]
  },
  {
   "cell_type": "code",
   "execution_count": 3,
   "metadata": {},
   "outputs": [],
   "source": [
    "league = \"Russian Premier League\"\n",
    "\n",
    "sc = Scraper(league,db=DB_TEST)\n",
    "\n"
   ]
  },
  {
   "cell_type": "code",
   "execution_count": 4,
   "metadata": {},
   "outputs": [
    {
     "data": {
      "text/plain": [
       "{'2009': {'id': '1673'},\n",
       " '2010': {'id': '2094'},\n",
       " '2011-2012': {'id': '2776',\n",
       "  'stages': {'Premier League': '5051',\n",
       "   'Premier League  Championship Playoffs': '5890',\n",
       "   'Premier League  Relegation Playoffs': '5891'}},\n",
       " '2012-2013': {'id': '3346'},\n",
       " '2013-2014': {'id': '3861'},\n",
       " '2014-2015': {'id': '4303'},\n",
       " '2015-2016': {'id': '5859'},\n",
       " '2016-2017': {'id': '6357'},\n",
       " '2017-2018': {'id': '6819'},\n",
       " '2018-2019': {'id': '7389'}}"
      ]
     },
     "execution_count": 4,
     "metadata": {},
     "output_type": "execute_result"
    }
   ],
   "source": [
    "sc.seasons"
   ]
  },
  {
   "cell_type": "code",
   "execution_count": 5,
   "metadata": {},
   "outputs": [
    {
     "data": {
      "text/plain": [
       "<ws.scraper.Scraper at 0x114b98f60>"
      ]
     },
     "execution_count": 5,
     "metadata": {},
     "output_type": "execute_result"
    }
   ],
   "source": [
    "sc.setSeason(\"2018-2019\")#.setStage(\"Eredivisie\")"
   ]
  },
  {
   "cell_type": "code",
   "execution_count": 6,
   "metadata": {},
   "outputs": [
    {
     "name": "stdout",
     "output_type": "stream",
     "text": [
      "League: Russian Premier League\n",
      "Season: 2018-2019\n",
      "Stage: None\n",
      "Available matches: 9\n",
      "Saved Matches: 1\n",
      "Save path: ../data/json/\n",
      "List path: ../data/lists/\n",
      "Driver path: ../../software/chromedriver/chromedriver\n"
     ]
    }
   ],
   "source": [
    "sc.getInfo()"
   ]
  },
  {
   "cell_type": "code",
   "execution_count": 12,
   "metadata": {},
   "outputs": [
    {
     "data": {
      "text/plain": [
       "[]"
      ]
     },
     "execution_count": 12,
     "metadata": {},
     "output_type": "execute_result"
    }
   ],
   "source": []
  },
  {
   "cell_type": "code",
   "execution_count": null,
   "metadata": {
    "collapsed": true
   },
   "outputs": [],
   "source": [
    "sc.updateSeasons()"
   ]
  },
  {
   "cell_type": "code",
   "execution_count": 9,
   "metadata": {},
   "outputs": [
    {
     "name": "stdout",
     "output_type": "stream",
     "text": [
      "7  matches done!\n",
      "9  matches done!\n",
      "8  matches done!\n",
      "9  matches done!\n",
      "7  matches done!\n",
      "9  matches done!\n",
      "6  matches done!\n",
      "last matches done!\n"
     ]
    },
    {
     "data": {
      "text/plain": [
       "<ws.scraper.Scraper at 0x114b98f60>"
      ]
     },
     "execution_count": 9,
     "metadata": {},
     "output_type": "execute_result"
    }
   ],
   "source": [
    "sc.updateMatchesList()"
   ]
  },
  {
   "cell_type": "code",
   "execution_count": 15,
   "metadata": {},
   "outputs": [
    {
     "data": {
      "text/plain": [
       "9"
      ]
     },
     "execution_count": 15,
     "metadata": {},
     "output_type": "execute_result"
    }
   ],
   "source": [
    "len(sc.matches)"
   ]
  },
  {
   "cell_type": "code",
   "execution_count": 7,
   "metadata": {},
   "outputs": [
    {
     "name": "stdout",
     "output_type": "stream",
     "text": [
      "you already have  1  matches\n",
      "you are missing 8  matches\n",
      "starting scraping of  2  matches\n",
      "2018-09-13 16:14:53   1 matches done  { \" }\n",
      "2018-09-13 16:15:14   2 matches done  { \" }\n",
      "Total count of saved matches with new: 3\n"
     ]
    },
    {
     "data": {
      "text/plain": [
       "<ws.scraper.Scraper at 0x114b98f60>"
      ]
     },
     "execution_count": 7,
     "metadata": {},
     "output_type": "execute_result"
    }
   ],
   "source": [
    "sc.getMatches(2,save=True)"
   ]
  },
  {
   "cell_type": "code",
   "execution_count": 19,
   "metadata": {},
   "outputs": [
    {
     "data": {
      "text/plain": [
       "<ws.scraper.Scraper at 0x103e0bcc0>"
      ]
     },
     "execution_count": 19,
     "metadata": {},
     "output_type": "execute_result"
    }
   ],
   "source": [
    "sc.__openDriver__()"
   ]
  },
  {
   "cell_type": "code",
   "execution_count": 20,
   "metadata": {
    "collapsed": true
   },
   "outputs": [],
   "source": [
    "url = \"https://www.whoscored.com/Regions/\"+str(sc.countryid)+\"/Tournaments/\"+str(sc.leagueid)+\"/Seasons/\"+str(sc.seasonid)"
   ]
  },
  {
   "cell_type": "code",
   "execution_count": 21,
   "metadata": {
    "collapsed": true
   },
   "outputs": [],
   "source": [
    "sc.driver.get(url)"
   ]
  },
  {
   "cell_type": "code",
   "execution_count": 8,
   "metadata": {},
   "outputs": [
    {
     "name": "stdout",
     "output_type": "stream",
     "text": [
      "teams 4\n",
      "players 86\n",
      "events 2589\n",
      "matches 2\n"
     ]
    }
   ],
   "source": [
    "for i in DB_TEST.collection_names():\n",
    "    print(i,DB_TEST[i].count())"
   ]
  },
  {
   "cell_type": "code",
   "execution_count": null,
   "metadata": {
    "collapsed": true
   },
   "outputs": [],
   "source": []
  }
 ],
 "metadata": {
  "kernelspec": {
   "display_name": "Python 3",
   "language": "python",
   "name": "python3"
  },
  "language_info": {
   "codemirror_mode": {
    "name": "ipython",
    "version": 3
   },
   "file_extension": ".py",
   "mimetype": "text/x-python",
   "name": "python",
   "nbconvert_exporter": "python",
   "pygments_lexer": "ipython3",
   "version": "3.6.2"
  }
 },
 "nbformat": 4,
 "nbformat_minor": 2
}
