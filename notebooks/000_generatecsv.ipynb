{
 "cells": [
  {
   "cell_type": "code",
   "execution_count": 2,
   "metadata": {
    "collapsed": true,
    "deletable": true,
    "editable": true
   },
   "outputs": [],
   "source": [
    "import csvtables as tb\n",
    "years = [\"2016-2017\",\"2015-2016\",\"2014-2015\",\"2013-2014\",\"2012-2013\",\"2011-2012\",\"2010-2011\",\"2009-2010\"]\n",
    "leagues = [\"La Liga\",\"Bundesliga\",\"Premier League\",\"Serie A\",\"Ligue 1\"]"
   ]
  },
  {
   "cell_type": "code",
   "execution_count": 4,
   "metadata": {
    "collapsed": false,
    "deletable": true,
    "editable": true
   },
   "outputs": [
    {
     "name": "stdout",
     "output_type": "stream",
     "text": [
      "2017-05-22 21:50:40 starting  La Liga   2016-2017\n",
      "2017-05-22 21:50:40  starting matches table\n",
      "2017-05-22 21:51:10  season done!\n",
      "2017-05-22 21:51:10  csv file done!\n",
      "2017-05-22 21:51:10  starting satisfied events table\n",
      "2017-05-22 21:51:31  season done!\n",
      "2017-05-22 21:51:52  csv file done!\n",
      "2017-05-22 21:51:52  starting formations table\n",
      "2017-05-22 21:52:06  season done!\n",
      "2017-05-22 21:52:06  csv file done!\n",
      "2017-05-22 21:52:06  starting events table\n",
      "2017-05-22 21:52:22  season done!\n",
      "2017-05-22 21:52:30  csv file done!\n",
      "2017-05-22 21:52:30  starting qualifiers table\n",
      "2017-05-22 21:52:52  season done!\n",
      "2017-05-22 21:53:07  csv file done!\n",
      "2017-05-22 21:53:08  starting teams table\n",
      "2017-05-22 21:53:21  season done!\n",
      "2017-05-22 21:53:21  csv file done!\n",
      "2017-05-22 21:53:21  starting referees table\n",
      "2017-05-22 21:53:35  season done!\n",
      "2017-05-22 21:53:35  csv file done!\n",
      "2017-05-22 21:53:35  starting players table\n",
      "2017-05-22 21:53:49  season done!\n",
      "2017-05-22 21:53:50  csv file done!\n",
      "2017-05-22 21:53:50 finished  La Liga   2016-2017\n",
      "2017-05-22 21:53:50 starting  Bundesliga   2016-2017\n",
      "2017-05-22 21:53:50  starting matches table\n",
      "2017-05-22 21:54:17  season done!\n",
      "2017-05-22 21:54:17  csv file done!\n",
      "2017-05-22 21:54:17  starting satisfied events table\n",
      "2017-05-22 21:54:34  season done!\n",
      "2017-05-22 21:54:50  csv file done!\n",
      "2017-05-22 21:54:51  starting formations table\n",
      "2017-05-22 21:55:02  season done!\n",
      "2017-05-22 21:55:02  csv file done!\n",
      "2017-05-22 21:55:02  starting events table\n",
      "2017-05-22 21:55:16  season done!\n",
      "2017-05-22 21:55:22  csv file done!\n",
      "2017-05-22 21:55:23  starting qualifiers table\n",
      "2017-05-22 21:55:39  season done!\n",
      "2017-05-22 21:55:52  csv file done!\n",
      "2017-05-22 21:55:53  starting teams table\n",
      "2017-05-22 21:56:05  season done!\n",
      "2017-05-22 21:56:05  csv file done!\n",
      "2017-05-22 21:56:05  starting referees table\n",
      "2017-05-22 21:56:16  season done!\n",
      "2017-05-22 21:56:16  csv file done!\n",
      "2017-05-22 21:56:16  starting players table\n",
      "2017-05-22 21:56:27  season done!\n",
      "2017-05-22 21:56:27  csv file done!\n",
      "2017-05-22 21:56:27 finished  Bundesliga   2016-2017\n",
      "2017-05-22 21:56:27 starting  Premier League   2016-2017\n",
      "2017-05-22 21:56:27  starting matches table\n",
      "2017-05-22 21:56:58  season done!\n",
      "2017-05-22 21:56:58  csv file done!\n",
      "2017-05-22 21:56:58  starting satisfied events table\n",
      "2017-05-22 21:57:21  season done!\n",
      "2017-05-22 21:57:41  csv file done!\n",
      "2017-05-22 21:57:41  starting formations table\n",
      "2017-05-22 21:57:55  season done!\n",
      "2017-05-22 21:57:56  csv file done!\n",
      "2017-05-22 21:57:56  starting events table\n",
      "2017-05-22 21:58:13  season done!\n",
      "2017-05-22 21:58:21  csv file done!\n",
      "2017-05-22 21:58:21  starting qualifiers table\n",
      "2017-05-22 21:58:43  season done!\n",
      "2017-05-22 21:58:58  csv file done!\n",
      "2017-05-22 21:58:58  starting teams table\n",
      "2017-05-22 21:59:13  season done!\n",
      "2017-05-22 21:59:13  csv file done!\n",
      "2017-05-22 21:59:13  starting referees table\n",
      "2017-05-22 21:59:27  season done!\n",
      "2017-05-22 21:59:27  csv file done!\n",
      "2017-05-22 21:59:27  starting players table\n",
      "2017-05-22 21:59:41  season done!\n",
      "2017-05-22 21:59:41  csv file done!\n",
      "2017-05-22 21:59:41 finished  Premier League   2016-2017\n",
      "2017-05-22 21:59:41 starting  Serie A   2016-2017\n",
      "2017-05-22 21:59:41  starting matches table\n",
      "2017-05-22 22:00:13  season done!\n",
      "2017-05-22 22:00:13  csv file done!\n",
      "2017-05-22 22:00:13  starting satisfied events table\n",
      "2017-05-22 22:00:35  season done!\n",
      "2017-05-22 22:00:54  csv file done!\n",
      "2017-05-22 22:00:55  starting formations table\n",
      "2017-05-22 22:01:08  season done!\n",
      "2017-05-22 22:01:09  csv file done!\n",
      "2017-05-22 22:01:09  starting events table\n",
      "2017-05-22 22:01:26  season done!\n",
      "2017-05-22 22:01:33  csv file done!\n",
      "2017-05-22 22:01:34  starting qualifiers table\n",
      "2017-05-22 22:01:55  season done!\n",
      "2017-05-22 22:02:10  csv file done!\n",
      "2017-05-22 22:02:11  starting teams table\n",
      "2017-05-22 22:02:25  season done!\n",
      "2017-05-22 22:02:25  csv file done!\n",
      "2017-05-22 22:02:25  starting referees table\n",
      "2017-05-22 22:02:39  season done!\n",
      "2017-05-22 22:02:39  csv file done!\n",
      "2017-05-22 22:02:39  starting players table\n",
      "2017-05-22 22:02:53  season done!\n",
      "2017-05-22 22:02:53  csv file done!\n",
      "2017-05-22 22:02:53 finished  Serie A   2016-2017\n",
      "2017-05-22 22:02:53 starting  Ligue 1   2016-2017\n",
      "2017-05-22 22:02:53  starting matches table\n",
      "2017-05-22 22:03:25  season done!\n",
      "2017-05-22 22:03:25  csv file done!\n",
      "2017-05-22 22:03:25  starting satisfied events table\n",
      "2017-05-22 22:03:47  season done!\n",
      "2017-05-22 22:04:06  csv file done!\n",
      "2017-05-22 22:04:07  starting formations table\n",
      "2017-05-22 22:04:21  season done!\n",
      "2017-05-22 22:04:21  csv file done!\n",
      "2017-05-22 22:04:21  starting events table\n",
      "2017-05-22 22:04:38  season done!\n",
      "2017-05-22 22:04:47  csv file done!\n",
      "2017-05-22 22:04:47  starting qualifiers table\n",
      "2017-05-22 22:05:09  season done!\n",
      "2017-05-22 22:05:25  csv file done!\n",
      "2017-05-22 22:05:25  starting teams table\n",
      "2017-05-22 22:05:40  season done!\n",
      "2017-05-22 22:05:40  csv file done!\n",
      "2017-05-22 22:05:40  starting referees table\n",
      "2017-05-22 22:05:54  season done!\n",
      "2017-05-22 22:05:54  csv file done!\n",
      "2017-05-22 22:05:54  starting players table\n",
      "2017-05-22 22:06:08  season done!\n",
      "2017-05-22 22:06:08  csv file done!\n",
      "2017-05-22 22:06:08 finished  Ligue 1   2016-2017\n"
     ]
    }
   ],
   "source": [
    "for league in leagues:\n",
    "        tb.alltables(league,\"2016-2017\")"
   ]
  },
  {
   "cell_type": "code",
   "execution_count": 3,
   "metadata": {
    "collapsed": false,
    "deletable": true,
    "editable": true
   },
   "outputs": [
    {
     "name": "stdout",
     "output_type": "stream",
     "text": [
      "2017-05-29 19:04:12 starting  Serie A   2016-2017\n",
      "2017-05-29 19:04:12  starting matches table\n",
      "2017-05-29 19:04:37  season done!\n",
      "2017-05-29 19:04:37  csv file done!\n",
      "2017-05-29 19:04:37  starting satisfied events table\n",
      "2017-05-29 19:05:03  season done!\n",
      "2017-05-29 19:05:29  csv file done!\n",
      "2017-05-29 19:05:29  starting formations table\n",
      "2017-05-29 19:05:48  season done!\n",
      "2017-05-29 19:05:48  csv file done!\n",
      "2017-05-29 19:05:49  starting events table\n",
      "2017-05-29 19:06:12  season done!\n",
      "2017-05-29 19:06:21  csv file done!\n",
      "2017-05-29 19:06:21  starting qualifiers table\n",
      "2017-05-29 19:06:46  season done!\n",
      "2017-05-29 19:07:06  csv file done!\n",
      "2017-05-29 19:07:07  starting teams table\n",
      "2017-05-29 19:07:23  season done!\n",
      "2017-05-29 19:07:23  csv file done!\n",
      "2017-05-29 19:07:23  starting referees table\n",
      "2017-05-29 19:07:39  season done!\n",
      "2017-05-29 19:07:39  csv file done!\n",
      "2017-05-29 19:07:39  starting players table\n",
      "2017-05-29 19:07:56  season done!\n",
      "2017-05-29 19:07:56  csv file done!\n",
      "2017-05-29 19:07:56 finished  Serie A   2016-2017\n"
     ]
    }
   ],
   "source": [
    "tb.alltables(\"Serie A\",\"2016-2017\")"
   ]
  },
  {
   "cell_type": "code",
   "execution_count": 5,
   "metadata": {
    "collapsed": false,
    "deletable": true,
    "editable": true
   },
   "outputs": [
    {
     "name": "stdout",
     "output_type": "stream",
     "text": [
      "2017-04-26 19:46:15  starting formations table\n",
      "2017-04-26 19:46:28  season done!\n",
      "2017-04-26 19:46:28  csv file done!\n"
     ]
    }
   ],
   "source": [
    "tb.formations(\"La Liga\",\"2014-2015\")"
   ]
  },
  {
   "cell_type": "code",
   "execution_count": null,
   "metadata": {
    "collapsed": true,
    "deletable": true,
    "editable": true
   },
   "outputs": [],
   "source": []
  }
 ],
 "metadata": {
  "kernelspec": {
   "display_name": "Python 3",
   "language": "python",
   "name": "python3"
  },
  "language_info": {
   "codemirror_mode": {
    "name": "ipython",
    "version": 3
   },
   "file_extension": ".py",
   "mimetype": "text/x-python",
   "name": "python",
   "nbconvert_exporter": "python",
   "pygments_lexer": "ipython3",
   "version": "3.6.0"
  }
 },
 "nbformat": 4,
 "nbformat_minor": 2
}
