{
 "cells": [
  {
   "cell_type": "code",
   "execution_count": 12,
   "metadata": {
    "collapsed": false
   },
   "outputs": [],
   "source": [
    "import sys\n",
    "import os\n",
    "sys.path.append(os.getcwd() + \"/..\")\n",
    "import ws.scrapers as sc\n",
    "import ws.jsontosql\n",
    "import pandas as pd\n",
    "import json\n",
    "import pickle\n",
    "import time\n",
    "import sqlite3\n",
    "import sqlalchemy\n",
    "\n",
    "engine = sqlalchemy.create_engine('sqlite:///../data/db.sqlite')\n",
    "conn = sqlite3.connect('../data/db.sqlite')"
   ]
  },
  {
   "cell_type": "code",
   "execution_count": 16,
   "metadata": {
    "collapsed": false
   },
   "outputs": [],
   "source": [
    "matches = pd.read_sql(\"SELECT * FROM matches\", con = engine, parse_dates = [\"date\"])\n"
   ]
  },
  {
   "cell_type": "code",
   "execution_count": 18,
   "metadata": {
    "collapsed": false
   },
   "outputs": [],
   "source": [
    "ins = sqlalchemy.inspect(engine)"
   ]
  },
  {
   "cell_type": "code",
   "execution_count": 19,
   "metadata": {
    "collapsed": false
   },
   "outputs": [
    {
     "data": {
      "text/plain": [
       "['events', 'matches', 'players', 'qualifiers', 'teams']"
      ]
     },
     "execution_count": 19,
     "metadata": {},
     "output_type": "execute_result"
    }
   ],
   "source": [
    "ins.get_table_names()"
   ]
  },
  {
   "cell_type": "code",
   "execution_count": 21,
   "metadata": {
    "collapsed": false
   },
   "outputs": [
    {
     "data": {
      "text/plain": [
       "'keyid'"
      ]
     },
     "execution_count": 21,
     "metadata": {},
     "output_type": "execute_result"
    }
   ],
   "source": [
    "ins.get_columns(\"events\")[0][\"name\"]"
   ]
  },
  {
   "cell_type": "code",
   "execution_count": 32,
   "metadata": {
    "collapsed": false
   },
   "outputs": [],
   "source": [
    "results = engine.execute(\"SELECT * FROM matches LIMIT 10\").fetchall()"
   ]
  },
  {
   "cell_type": "code",
   "execution_count": 34,
   "metadata": {
    "collapsed": false
   },
   "outputs": [
    {
     "ename": "AttributeError",
     "evalue": "'list' object has no attribute 'keys'",
     "output_type": "error",
     "traceback": [
      "\u001b[0;31m---------------------------------------------------------------------------\u001b[0m",
      "\u001b[0;31mAttributeError\u001b[0m                            Traceback (most recent call last)",
      "\u001b[0;32m<ipython-input-34-00940ee5609b>\u001b[0m in \u001b[0;36m<module>\u001b[0;34m()\u001b[0m\n\u001b[0;32m----> 1\u001b[0;31m \u001b[0mprint\u001b[0m \u001b[1;33m(\u001b[0m\u001b[0mresults\u001b[0m\u001b[1;33m.\u001b[0m\u001b[0mkeys\u001b[0m\u001b[1;33m(\u001b[0m\u001b[1;33m)\u001b[0m\u001b[1;33m)\u001b[0m\u001b[1;33m\u001b[0m\u001b[0m\n\u001b[0m",
      "\u001b[0;31mAttributeError\u001b[0m: 'list' object has no attribute 'keys'"
     ]
    }
   ],
   "source": [
    "print (results.keys())"
   ]
  },
  {
   "cell_type": "code",
   "execution_count": 37,
   "metadata": {
    "collapsed": true
   },
   "outputs": [],
   "source": [
    "lista = []\n",
    "\n",
    "for row in results:\n",
    "    lista.append(dict(row))\n",
    "\n"
   ]
  },
  {
   "cell_type": "code",
   "execution_count": 42,
   "metadata": {
    "collapsed": false
   },
   "outputs": [
    {
     "data": {
      "text/plain": [
       "'335108'"
      ]
     },
     "execution_count": 42,
     "metadata": {},
     "output_type": "execute_result"
    }
   ],
   "source": [
    "pd.DataFrame(lista)[\"wsmatchid\"][1]"
   ]
  },
  {
   "cell_type": "code",
   "execution_count": 48,
   "metadata": {
    "collapsed": false
   },
   "outputs": [
    {
     "data": {
      "text/plain": [
       "wsmatchid               object\n",
       "league                  object\n",
       "season                  object\n",
       "date            datetime64[ns]\n",
       "hometeamid               int64\n",
       "awayteamid               int64\n",
       "hometeamname            object\n",
       "awayteamname            object\n",
       "homescore               object\n",
       "awayscore               object\n",
       "homepkscore             object\n",
       "awaypkscore             object\n",
       "referee                 object\n",
       "managerhome             object\n",
       "manageraway             object\n",
       "attendance               int64\n",
       "venuename               object\n",
       "dtype: object"
      ]
     },
     "execution_count": 48,
     "metadata": {},
     "output_type": "execute_result"
    }
   ],
   "source": [
    "matches.dtypes"
   ]
  },
  {
   "cell_type": "code",
   "execution_count": 50,
   "metadata": {
    "collapsed": false
   },
   "outputs": [],
   "source": [
    "import pandas as pd\n",
    "import matplotlib.pyplot as plt\n",
    "from matplotlib.patches import Ellipse\n",
    "%matplotlib inline\n",
    "\n",
    "x_size = 105.0\n",
    "y_size = 68.0\n",
    "\n",
    "\n",
    "def draw_pitch():\n",
    "    \n",
    "    x_size = 105.0\n",
    "    y_size = 68.0\n",
    "    #set up field    \n",
    "    fig = plt.figure(figsize=(x_size/10, y_size/10))\n",
    "    fig.patch.set_facecolor('#78AB46')\n",
    "\n",
    "    axes = fig.add_subplot(1, 1, 1, axisbg='#78AB46')\n",
    "\n",
    "    axes.xaxis.set_visible(False)\n",
    "    axes.yaxis.set_visible(False)\n",
    "\n",
    "    plt.xlim([-5,x_size+5])\n",
    "    plt.ylim([-5,y_size+5])\n",
    "\n",
    "    box_height = ((16.5*2 + 7.32)/y_size)/1.15\n",
    "    box_width = (16.5/x_size)/1.15\n",
    "\n",
    "    team_colors = {'H': 'red',\n",
    "                   'A': 'white'}    \n",
    "\n",
    "    r1 = plt.Rectangle((0.04338, 0.0641), (0.95652-0.04338), (0.9359-0.0641),\n",
    "                       edgecolor=\"white\", facecolor=\"none\", alpha=1, transform=axes.transAxes) #pitch\n",
    "\n",
    "    r2 = plt.Line2D([0.5, 0.5], [0.9359, 0.0641],\n",
    "                    c='w', transform=axes.transAxes) #half-way line\n",
    "\n",
    "    r3 = plt.Rectangle((0.04338, (1-box_height)/2), box_width, box_height,\n",
    "                       ec='w', fc='none', transform=axes.transAxes) #penalty area\n",
    "\n",
    "    r4 = plt.Rectangle((0.95652-box_width, (1-box_height)/2), box_width, box_height,\n",
    "                       ec='w', fc='none', transform=axes.transAxes) #penalty area\n",
    "\n",
    "    r5 = Ellipse((0.5, 0.5), 9.15*2/x_size, 9.15*2/y_size,\n",
    "                                    ec='w', fc='none', transform=axes.transAxes) #middle circle\n",
    "\n",
    "    fig.lines.extend([r1, r2, r3, r4, r5])\n",
    "    \n",
    "    return fig, axes"
   ]
  },
  {
   "cell_type": "code",
   "execution_count": 51,
   "metadata": {
    "collapsed": false
   },
   "outputs": [
    {
     "name": "stderr",
     "output_type": "stream",
     "text": [
      "C:\\Users\\Administrador.000\\Anaconda3\\lib\\site-packages\\matplotlib\\cbook.py:136: MatplotlibDeprecationWarning: The axisbg attribute was deprecated in version 2.0. Use facecolor instead.\n",
      "  warnings.warn(message, mplDeprecation, stacklevel=1)\n"
     ]
    },
    {
     "data": {
      "text/plain": [
       "(<matplotlib.figure.Figure at 0x1bd3a853320>,\n",
       " <matplotlib.axes._subplots.AxesSubplot at 0x1bd3a853978>)"
      ]
     },
     "execution_count": 51,
     "metadata": {},
     "output_type": "execute_result"
    },
    {
     "data": {
      "image/png": "[encoded data removed]",
      "text/plain": [
       "<matplotlib.figure.Figure at 0x1bd3a853320>"
      ]
     },
     "metadata": {},
     "output_type": "display_data"
    }
   ],
   "source": [
    "draw_pitch()"
   ]
  },
  {
   "cell_type": "code",
   "execution_count": null,
   "metadata": {
    "collapsed": true
   },
   "outputs": [],
   "source": []
  }
 ],
 "metadata": {
  "kernelspec": {
   "display_name": "Python 3",
   "language": "python",
   "name": "python3"
  },
  "language_info": {
   "codemirror_mode": {
    "name": "ipython",
    "version": 3
   },
   "file_extension": ".py",
   "mimetype": "text/x-python",
   "name": "python",
   "nbconvert_exporter": "python",
   "pygments_lexer": "ipython3",
   "version": "3.6.0"
  }
 },
 "nbformat": 4,
 "nbformat_minor": 2
}
